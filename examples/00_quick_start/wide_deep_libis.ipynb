{
 "cells": [
  {
   "cell_type": "markdown",
   "metadata": {
    "pycharm": {
     "name": "#%% md\n"
    }
   },
   "source": [
    "# Wide and Deep Model for LIBIS Recommendations\n",
    "\n",
    "<br>\n",
    "\n",
    "A linear model with a wide set of crossed-column (co-occurrence) features can memorize the feature interactions, while deep neural networks (DNN) can generalize the feature patterns through low-dimensional dense embeddings learned for the sparse features. [**Wide-and-deep**](https://arxiv.org/abs/1606.07792) learning jointly trains wide linear model and deep neural networks to combine the benefits of memorization and generalization for recommender systems.\n",
    "\n",
    "This notebook shows how to build and test the wide-and-deep model using [TensorFlow high-level Estimator API](https://www.tensorflow.org/api_docs/python/tf/estimator/DNNLinearCombinedRegressor). With the [movie recommendation dataset](https://grouplens.org/datasets/movielens/), we quickly demonstrate following topics:\n",
    "1. How to prepare data\n",
    "2. Build the model\n",
    "3. Use log-hook to estimate performance while training\n",
    "4. Test the model and export"
   ]
  },
  {
   "cell_type": "markdown",
   "source": [
    "To run project, first install it by running:\n",
    "pip install .\n",
    "pip install -e .[examples]\n",
    "pip install tensorflow-gpu==1.15.0"
   ],
   "metadata": {
    "collapsed": false,
    "pycharm": {
     "name": "#%% md\n"
    }
   }
  },
  {
   "cell_type": "code",
   "execution_count": 1,
   "metadata": {
    "pycharm": {
     "name": "#%%\n"
    }
   },
   "outputs": [],
   "source": [
    "%reload_ext autoreload\n",
    "%autoreload 2\n",
    "%matplotlib inline"
   ]
  },
  {
   "cell_type": "code",
   "execution_count": 2,
   "metadata": {
    "pycharm": {
     "name": "#%%\n"
    }
   },
   "outputs": [
    {
     "name": "stdout",
     "output_type": "stream",
     "text": [
      "Tensorflow Version: 1.15.0\n",
      "GPUs:\n",
      " [{'device_name': 'NVIDIA GeForce GTX 1070', 'total_memory': 8191.6875, 'free_memory': 7243.3125}]\n"
     ]
    }
   ],
   "source": [
    "import math\n",
    "import os\n",
    "from tempfile import TemporaryDirectory\n",
    "\n",
    "import scrapbook as sb\n",
    "import pandas as pd\n",
    "import sklearn.preprocessing\n",
    "import tensorflow as tf\n",
    "\n",
    "tf.get_logger().setLevel('ERROR') # only show error messages\n",
    "\n",
    "from recommenders.utils.constants import (\n",
    "    DEFAULT_LIBIS_USER_COL as USER_COL,\n",
    "    DEFAULT_LIBIS_ITEM_COL as ITEM_COL,\n",
    "    DEFAULT_LIBIS_RATING_COL as RATING_COL,\n",
    "    DEFAULT_PREDICTION_COL as PREDICT_COL,\n",
    "    DEFAULT_LIBIS_GENRE_COL as ITEM_FEAT_COL,\n",
    "    SEED\n",
    ")\n",
    "from recommenders.utils import tf_utils, gpu_utils, plot\n",
    "from recommenders.datasets.pandas_df_utils import user_item_pairs\n",
    "from recommenders.datasets.python_splitters import python_random_split\n",
    "import recommenders.evaluation.python_evaluation as evaluator\n",
    "import recommenders.models.wide_deep.wide_deep_utils as wide_deep\n",
    "\n",
    "from datetime import datetime\n",
    "from dateutil.relativedelta import relativedelta\n",
    "\n",
    "print(\"Tensorflow Version:\", tf.__version__)\n",
    "print(\"GPUs:\\n\", gpu_utils.get_gpu_info())"
   ]
  },
  {
   "cell_type": "code",
   "execution_count": 3,
   "metadata": {
    "tags": [
     "parameters"
    ],
    "pycharm": {
     "name": "#%%\n"
    }
   },
   "outputs": [],
   "source": [
    "\"\"\"Parameters (papermill)\"\"\"\n",
    "\n",
    "# Recommend top k items\n",
    "TOP_K = 10\n",
    "# Select MovieLens data size: 100k, 1m, 10m, or 20m\n",
    "MOVIELENS_DATA_SIZE = '100k'\n",
    "# Metrics to use for evaluation\n",
    "RANKING_METRICS = [\n",
    "    evaluator.ndcg_at_k.__name__,\n",
    "    evaluator.precision_at_k.__name__,\n",
    "]\n",
    "RATING_METRICS = [\n",
    "    evaluator.rmse.__name__,\n",
    "    evaluator.mae.__name__,\n",
    "]\n",
    "# Use session hook to evaluate model while training\n",
    "EVALUATE_WHILE_TRAINING = True\n",
    "\n",
    "RANDOM_SEED = SEED  # Set seed for deterministic result\n",
    "\n",
    "# Train and test set pickle file paths. If provided, use them. Otherwise, download the MovieLens dataset.\n",
    "DATA_DIR = None\n",
    "TRAIN_PICKLE_PATH = None\n",
    "TEST_PICKLE_PATH = None\n",
    "EXPORT_DIR_BASE = '.\\outputs\\model'\n",
    "# Model checkpoints directory. If None, use temp-dir.\n",
    "MODEL_DIR = 'C:\\\\Users\\\\kazim\\\\Sources\\\\senvaitis\\\\recommenders\\\\examples\\\\00_quick_start\\\\outputs\\\\tensorboard'\n",
    "# MODEL_DIR = '.\\tensorflowlogs'\n",
    "# os.makedirs(EXPORT_DIR_BASE, exist_ok=True)\n",
    "# os.makedirs(MODEL_DIR, exist_ok=True)\n",
    "\n",
    "#### Hyperparameters\n",
    "MODEL_TYPE = 'wide_deep'\n",
    "STEPS = 50000  # Number of batches to train\n",
    "BATCH_SIZE = 32\n",
    "# Wide (linear) model hyperparameters\n",
    "LINEAR_OPTIMIZER = 'adagrad'\n",
    "LINEAR_OPTIMIZER_LR = 0.0621  # Learning rate\n",
    "LINEAR_L1_REG = 0.0           # Regularization rate for FtrlOptimizer\n",
    "LINEAR_L2_REG = 0.0\n",
    "LINEAR_MOMENTUM = 0.0         # Momentum for MomentumOptimizer or RMSPropOptimizer\n",
    "# DNN model hyperparameters\n",
    "DNN_OPTIMIZER = 'adadelta'\n",
    "DNN_OPTIMIZER_LR = 0.1\n",
    "DNN_L1_REG = 0.0           # Regularization rate for FtrlOptimizer\n",
    "DNN_L2_REG = 0.0\n",
    "DNN_MOMENTUM = 0.0         # Momentum for MomentumOptimizer or RMSPropOptimizer\n",
    "# Layer dimensions. Defined as follows to make this notebook runnable from Hyperparameter tuning services like AzureML Hyperdrive\n",
    "DNN_HIDDEN_LAYER_1 = 0     # Set 0 to not use this layer\n",
    "DNN_HIDDEN_LAYER_2 = 64    # Set 0 to not use this layer\n",
    "DNN_HIDDEN_LAYER_3 = 128   # Set 0 to not use this layer\n",
    "DNN_HIDDEN_LAYER_4 = 512   # Note, at least one layer should have nodes.\n",
    "DNN_HIDDEN_UNITS = [h for h in [DNN_HIDDEN_LAYER_1, DNN_HIDDEN_LAYER_2, DNN_HIDDEN_LAYER_3, DNN_HIDDEN_LAYER_4] if h > 0]\n",
    "DNN_USER_DIM = 32          # User embedding feature dimension\n",
    "DNN_ITEM_DIM = 16          # Item embedding feature dimension\n",
    "DNN_DROPOUT = 0.8\n",
    "DNN_BATCH_NORM = 1         # 1 to use batch normalization, 0 if not."
   ]
  },
  {
   "cell_type": "code",
   "execution_count": 4,
   "metadata": {
    "pycharm": {
     "name": "#%%\n"
    }
   },
   "outputs": [],
   "source": [
    "if MODEL_DIR is None:\n",
    "    TMP_DIR = TemporaryDirectory()\n",
    "    model_dir = TMP_DIR.name\n",
    "else:\n",
    "    if os.path.exists(MODEL_DIR) and os.listdir(MODEL_DIR):\n",
    "        raise ValueError(\n",
    "            \"Model exists in {}. Use different directory name or \"\n",
    "            \"remove the existing checkpoint files first\".format(MODEL_DIR)\n",
    "        )\n",
    "    TMP_DIR = None\n",
    "    model_dir = MODEL_DIR"
   ]
  },
  {
   "cell_type": "markdown",
   "metadata": {
    "pycharm": {
     "name": "#%% md\n"
    }
   },
   "source": [
    "### 1. Prepare Data\n",
    "\n",
    "#### 1.1 Movie Rating and Genres Data\n",
    "First, download [MovieLens](https://grouplens.org/datasets/movielens/) data. Movies in the data set are tagged as one or more genres where there are total 19 genres including '*unknown*'. We load *movie genres* to use them as item features."
   ]
  },
  {
   "cell_type": "code",
   "execution_count": 5,
   "outputs": [],
   "source": [
    "# declare constants\n",
    "DATASET = '100k'\n",
    "# DATASET = '1m'\n",
    "# DATASET = '5m'\n",
    "# DATASET = '10m'\n",
    "# DATASET = '20m'\n",
    "\n",
    "MAX_ORDER_AGE_IN_MONTHS = 12\n",
    "NUM_NEGATIVES = 4\n",
    "# NUM_CLUSTERS = 10"
   ],
   "metadata": {
    "collapsed": false,
    "pycharm": {
     "name": "#%%\n"
    }
   }
  },
  {
   "cell_type": "code",
   "execution_count": 6,
   "metadata": {
    "pycharm": {
     "name": "#%%\n"
    }
   },
   "outputs": [
    {
     "name": "stdout",
     "output_type": "stream",
     "text": [
      "order count BEFORE dropping outdated orders: 400446\n"
     ]
    },
    {
     "data": {
      "text/plain": "        user_id  record_id  order_count    id  \\\n75381       280        945            0   945   \n245321      868       1925            1  1925   \n214272      754        320            0   320   \n177912      644       1069            0  1069   \n107999      391       1953            0  1953   \n37157       165       1444            0  1444   \n48808       205       1995            0  1995   \n262989      925       1258            0  1258   \n292191     1047        212            0   212   \n215487      756       1350            0  1350   \n\n                                                    title  \\\n75381   Muminukas ir žvaigždė : [pasakojimas] pagal or...   \n245321  Šešėlyje : [romanas] / Diane Chamberlain. – Vi...   \n214272  Skrybėlaičių karalienė : romanas / Natalie Meg...   \n177912  Džiovintas debesėlis : pasakos / rašė Nijolė K...   \n107999  Už uždarų durų : [detektyvinis romanas] / Eliz...   \n37157   Emigrantai : ar braškės virsta ferariais? : bi...   \n48808   Pašėlusi auklė ir didysis traukinio gelbėjimas...   \n262989  Pasiklyskime : romanas / Adi Alsaid. – Vilnius...   \n292191  Tu priklausai man : romanas / Mary Higgins Cla...   \n215487  Seserų varpai : romanas / Lars Mytting. – Viln...   \n\n                                        genres  \n75381   Grožinė literatūra vaikams ir jaunimui  \n245321                      Grožinė literatūra  \n214272                      Grožinė literatūra  \n177912  Grožinė literatūra vaikams ir jaunimui  \n107999                      Grožinė literatūra  \n37157                       Grožinė literatūra  \n48808   Grožinė literatūra vaikams ir jaunimui  \n262989  Grožinė literatūra vaikams ir jaunimui  \n292191                      Grožinė literatūra  \n215487                      Grožinė literatūra  ",
      "text/html": "<div>\n<style scoped>\n    .dataframe tbody tr th:only-of-type {\n        vertical-align: middle;\n    }\n\n    .dataframe tbody tr th {\n        vertical-align: top;\n    }\n\n    .dataframe thead th {\n        text-align: right;\n    }\n</style>\n<table border=\"1\" class=\"dataframe\">\n  <thead>\n    <tr style=\"text-align: right;\">\n      <th></th>\n      <th>user_id</th>\n      <th>record_id</th>\n      <th>order_count</th>\n      <th>id</th>\n      <th>title</th>\n      <th>genres</th>\n    </tr>\n  </thead>\n  <tbody>\n    <tr>\n      <th>75381</th>\n      <td>280</td>\n      <td>945</td>\n      <td>0</td>\n      <td>945</td>\n      <td>Muminukas ir žvaigždė : [pasakojimas] pagal or...</td>\n      <td>Grožinė literatūra vaikams ir jaunimui</td>\n    </tr>\n    <tr>\n      <th>245321</th>\n      <td>868</td>\n      <td>1925</td>\n      <td>1</td>\n      <td>1925</td>\n      <td>Šešėlyje : [romanas] / Diane Chamberlain. – Vi...</td>\n      <td>Grožinė literatūra</td>\n    </tr>\n    <tr>\n      <th>214272</th>\n      <td>754</td>\n      <td>320</td>\n      <td>0</td>\n      <td>320</td>\n      <td>Skrybėlaičių karalienė : romanas / Natalie Meg...</td>\n      <td>Grožinė literatūra</td>\n    </tr>\n    <tr>\n      <th>177912</th>\n      <td>644</td>\n      <td>1069</td>\n      <td>0</td>\n      <td>1069</td>\n      <td>Džiovintas debesėlis : pasakos / rašė Nijolė K...</td>\n      <td>Grožinė literatūra vaikams ir jaunimui</td>\n    </tr>\n    <tr>\n      <th>107999</th>\n      <td>391</td>\n      <td>1953</td>\n      <td>0</td>\n      <td>1953</td>\n      <td>Už uždarų durų : [detektyvinis romanas] / Eliz...</td>\n      <td>Grožinė literatūra</td>\n    </tr>\n    <tr>\n      <th>37157</th>\n      <td>165</td>\n      <td>1444</td>\n      <td>0</td>\n      <td>1444</td>\n      <td>Emigrantai : ar braškės virsta ferariais? : bi...</td>\n      <td>Grožinė literatūra</td>\n    </tr>\n    <tr>\n      <th>48808</th>\n      <td>205</td>\n      <td>1995</td>\n      <td>0</td>\n      <td>1995</td>\n      <td>Pašėlusi auklė ir didysis traukinio gelbėjimas...</td>\n      <td>Grožinė literatūra vaikams ir jaunimui</td>\n    </tr>\n    <tr>\n      <th>262989</th>\n      <td>925</td>\n      <td>1258</td>\n      <td>0</td>\n      <td>1258</td>\n      <td>Pasiklyskime : romanas / Adi Alsaid. – Vilnius...</td>\n      <td>Grožinė literatūra vaikams ir jaunimui</td>\n    </tr>\n    <tr>\n      <th>292191</th>\n      <td>1047</td>\n      <td>212</td>\n      <td>0</td>\n      <td>212</td>\n      <td>Tu priklausai man : romanas / Mary Higgins Cla...</td>\n      <td>Grožinė literatūra</td>\n    </tr>\n    <tr>\n      <th>215487</th>\n      <td>756</td>\n      <td>1350</td>\n      <td>0</td>\n      <td>1350</td>\n      <td>Seserų varpai : romanas / Lars Mytting. – Viln...</td>\n      <td>Grožinė literatūra</td>\n    </tr>\n  </tbody>\n</table>\n</div>"
     },
     "metadata": {},
     "output_type": "display_data"
    }
   ],
   "source": [
    "use_preset = (TRAIN_PICKLE_PATH is not None and TEST_PICKLE_PATH is not None)\n",
    "if not use_preset:\n",
    "    # The genres of each movie are returned as '|' separated string, e.g. \"Animation|Children's|Comedy\".\n",
    "    data = pd.read_csv(r'data/libis/' + DATASET + '/u.order-' + str(NUM_NEGATIVES) + '-negatives', sep=',',\n",
    "                     parse_dates=['timestamp'])\n",
    "    data = data[['user_id', 'record_id', 'timestamp', 'order_count']]\n",
    "    print(\"order count BEFORE dropping outdated orders: {}\".format(len(data)))\n",
    "    data = data[data['timestamp'] > (datetime.now() - relativedelta(months=MAX_ORDER_AGE_IN_MONTHS))]\n",
    "    data = data[['user_id', 'record_id', 'order_count']]\n",
    "\n",
    "    records = pd.read_csv(r'data/libis/' + DATASET + '/u.record', sep=',')\n",
    "    records = records[['id', 'title', 'genres']]\n",
    "\n",
    "    data = pd.merge(data, records, left_on='record_id', right_on='id', how='left')\n",
    "\n",
    "    # data = libis.load_pandas_df(\n",
    "    #     size=MOVIELENS_DATA_SIZE,\n",
    "    #     header=[USER_COL, ITEM_COL],\n",
    "    #     genres_col=ITEM_FEAT_COL\n",
    "    # )\n",
    "    # set genres to 'Unknown', where genres is NaN\n",
    "    # data['genres'].loc[np.isnan(data['genres'])] = 'Unknown'\n",
    "    # data[data['genres'].isnull()] = 'Unknown'\n",
    "    data[\"genres\"].fillna(\"Unknown\", inplace = True)\n",
    "\n",
    "    display(data.sample(10))\n"
   ]
  },
  {
   "cell_type": "markdown",
   "metadata": {
    "pycharm": {
     "name": "#%% md\n"
    }
   },
   "source": [
    "#### 1.2 Encode Item Features (Genres)\n",
    "To use genres from our model, we multi-hot-encode them with scikit-learn's [MultiLabelBinarizer](https://scikit-learn.org/stable/modules/generated/sklearn.preprocessing.MultiLabelBinarizer.html).\n",
    "\n",
    "For example, *Movie id=2355* has three genres, *Animation|Children's|Comedy*, which are being converted into an integer array of the indicator value for each genre like `[0, 0, 1, 1, 1, 0, 0, 0, ...]`. In the later step, we convert this into a float array and feed into the model.\n",
    "\n",
    "> For faster feature encoding, you may load ratings and items separately (by using `movielens.load_item_df`), encode the item-features, then combine the rating and item dataframes by using join-operation. "
   ]
  },
  {
   "cell_type": "code",
   "execution_count": 7,
   "metadata": {
    "pycharm": {
     "name": "#%%\n"
    }
   },
   "outputs": [
    {
     "name": "stdout",
     "output_type": "stream",
     "text": [
      "Genres: ['Bendrasis skyrius' 'Biografijos' 'Demografija. Sociologija. Statistika'\n",
      " 'Etnografija. Papročiai. Tautosaka' 'Filosofija, psichologija'\n",
      " 'Gamtos mokslai' 'Geografija' 'Grafika. Graviūra' 'Grožinė literatūra'\n",
      " 'Grožinė literatūra vaikams ir jaunimui' 'Istorija' 'Kalbotyra'\n",
      " 'Kino menas. Masinės šventės'\n",
      " 'Literatūros kritika ir literatūros mokslas' 'Medicina'\n",
      " 'Namų ūkis. Komunalinis ūkis. Buities tarnyba'\n",
      " 'Pažintinė literatūra vaikams'\n",
      " 'Piešimas. Taikomoji dekoratyvinė dailė. Dizainas' 'Politika'\n",
      " 'Religija, teologija'\n",
      " 'Socialinis aprūpinimas ir socialinė pagalba. Draudimas'\n",
      " 'Teatras. Scenos menas' 'Teisė. Teisės mokslai'\n",
      " 'Valstybės administracinis valdymas. Karyba'\n",
      " 'Visuomenės mokslų teorija ir metodai' 'Zoologija'\n",
      " 'Įmonių valdymas. Gamybos, prekybos ir transporto organizavimas'\n",
      " 'Šventės. Choreografija'\n",
      " 'Švietimas. Ugdymas. Mokymas. Laisvalaikio organizavimas'\n",
      " 'Žaidimai. Sportas']\n"
     ]
    },
    {
     "data": {
      "text/plain": "   user_id  record_id  order_count    id  \\\n0        1        455            1   455   \n1        1       1272            1  1272   \n2        1       1982            1  1982   \n3        1        530            1   530   \n4        1        566            1   566   \n\n                                               title  \\\n0  Ruduo Berlyne : [romanas] / Lina Ever. – Vilni...   \n1  Trapumas : romanas / Jodi Picoult. – Vilnius :...   \n2  Kuždesių fontanas : [romanas] / Ruta Sepetys. ...   \n3  Tūkstantis saulių skaisčių : [romanas] / Khale...   \n4  Ir aidėjo kalnai : [romanas] / Khaled Hosseini...   \n\n                                              genres  \n0  [0, 0, 0, 0, 0, 0, 0, 0, 1, 0, 0, 0, 0, 0, 0, ...  \n1  [0, 0, 0, 0, 0, 0, 0, 0, 1, 0, 0, 0, 0, 0, 0, ...  \n2  [0, 0, 0, 0, 0, 0, 0, 0, 1, 0, 0, 0, 0, 0, 0, ...  \n3  [0, 0, 0, 0, 0, 0, 0, 0, 1, 0, 0, 0, 0, 0, 0, ...  \n4  [0, 0, 0, 0, 0, 0, 0, 0, 1, 0, 0, 0, 0, 0, 0, ...  ",
      "text/html": "<div>\n<style scoped>\n    .dataframe tbody tr th:only-of-type {\n        vertical-align: middle;\n    }\n\n    .dataframe tbody tr th {\n        vertical-align: top;\n    }\n\n    .dataframe thead th {\n        text-align: right;\n    }\n</style>\n<table border=\"1\" class=\"dataframe\">\n  <thead>\n    <tr style=\"text-align: right;\">\n      <th></th>\n      <th>user_id</th>\n      <th>record_id</th>\n      <th>order_count</th>\n      <th>id</th>\n      <th>title</th>\n      <th>genres</th>\n    </tr>\n  </thead>\n  <tbody>\n    <tr>\n      <th>0</th>\n      <td>1</td>\n      <td>455</td>\n      <td>1</td>\n      <td>455</td>\n      <td>Ruduo Berlyne : [romanas] / Lina Ever. – Vilni...</td>\n      <td>[0, 0, 0, 0, 0, 0, 0, 0, 1, 0, 0, 0, 0, 0, 0, ...</td>\n    </tr>\n    <tr>\n      <th>1</th>\n      <td>1</td>\n      <td>1272</td>\n      <td>1</td>\n      <td>1272</td>\n      <td>Trapumas : romanas / Jodi Picoult. – Vilnius :...</td>\n      <td>[0, 0, 0, 0, 0, 0, 0, 0, 1, 0, 0, 0, 0, 0, 0, ...</td>\n    </tr>\n    <tr>\n      <th>2</th>\n      <td>1</td>\n      <td>1982</td>\n      <td>1</td>\n      <td>1982</td>\n      <td>Kuždesių fontanas : [romanas] / Ruta Sepetys. ...</td>\n      <td>[0, 0, 0, 0, 0, 0, 0, 0, 1, 0, 0, 0, 0, 0, 0, ...</td>\n    </tr>\n    <tr>\n      <th>3</th>\n      <td>1</td>\n      <td>530</td>\n      <td>1</td>\n      <td>530</td>\n      <td>Tūkstantis saulių skaisčių : [romanas] / Khale...</td>\n      <td>[0, 0, 0, 0, 0, 0, 0, 0, 1, 0, 0, 0, 0, 0, 0, ...</td>\n    </tr>\n    <tr>\n      <th>4</th>\n      <td>1</td>\n      <td>566</td>\n      <td>1</td>\n      <td>566</td>\n      <td>Ir aidėjo kalnai : [romanas] / Khaled Hosseini...</td>\n      <td>[0, 0, 0, 0, 0, 0, 0, 0, 1, 0, 0, 0, 0, 0, 0, ...</td>\n    </tr>\n  </tbody>\n</table>\n</div>"
     },
     "metadata": {},
     "output_type": "display_data"
    }
   ],
   "source": [
    "if not use_preset and ITEM_FEAT_COL is not None:\n",
    "    # Encode 'genres' into int array (multi-hot representation) to use as item features\n",
    "    genres_encoder = sklearn.preprocessing.MultiLabelBinarizer()\n",
    "    data[ITEM_FEAT_COL] = genres_encoder.fit_transform(\n",
    "        data[ITEM_FEAT_COL].apply(lambda s: s.split(\"|\"))\n",
    "    ).tolist()\n",
    "    print(\"Genres:\", genres_encoder.classes_)\n",
    "    display(data.head())"
   ]
  },
  {
   "cell_type": "markdown",
   "metadata": {
    "pycharm": {
     "name": "#%% md\n"
    }
   },
   "source": [
    "#### 1.3 Train and Test Split"
   ]
  },
  {
   "cell_type": "code",
   "execution_count": 8,
   "metadata": {
    "pycharm": {
     "name": "#%%\n"
    }
   },
   "outputs": [
    {
     "name": "stdout",
     "output_type": "stream",
     "text": [
      "257946 train samples and 64487 test samples\n"
     ]
    }
   ],
   "source": [
    "if not use_preset:\n",
    "    train, test = python_random_split(data, ratio=0.8, seed=RANDOM_SEED)\n",
    "    # # generate negative samples START\n",
    "    # user_item_label_set = set(zip(train['user_id'], train['record_id'], train['order_count']))\n",
    "    # user_item_set = set(zip(train['user_id'], train['record_id']))\n",
    "    # GENERATE_NUM_NEGATIVES = 4\n",
    "    # all_record_ids = train['record_id'].unique()\n",
    "    # negative_train = []\n",
    "    # record_id_to_genres_dic = train[['record_id', 'genres']].drop_duplicates(subset=['record_id'])\n",
    "    # print(record_id_to_genres_dic.shape)\n",
    "    # for u, i, l in tqdm(user_item_label_set):\n",
    "    #     for _ in range(GENERATE_NUM_NEGATIVES):\n",
    "    #         #print('in nested for')\n",
    "    #         random_negative_item_id = np.random.choice(all_record_ids)\n",
    "    #         #evaluating_expression = orders.loc[(orders['user_id'] == u) & (orders['record_id'] == random_negative_item_id)].bool()\n",
    "    #         #print('evaluating_expression', evaluating_expression)\n",
    "    #         while (u, random_negative_item_id) in user_item_set:\n",
    "    #             #print('generating another random negative')\n",
    "    #             random_negative_item_id = np.random.choice(all_record_ids)\n",
    "    #         #print('escaped')\n",
    "    #         random_negative_item_genres = record_id_to_genres_dic[record_id_to_genres_dic.record_id == random_negative_item_id].iloc[0].genres\n",
    "    #         negative_train.append({'user_id': u, 'record_id': random_negative_item_id, 'genres':random_negative_item_genres, 'order_count': 0})\n",
    "    # train = train.append(negative_train)\n",
    "    # display(train.sample())\n",
    "    #\n",
    "    # # END\n",
    "else:\n",
    "    train = pd.read_pickle(path=TRAIN_PICKLE_PATH if DATA_DIR is None else os.path.join(DATA_DIR, TRAIN_PICKLE_PATH))\n",
    "\n",
    "\n",
    "    test = pd.read_pickle(path=TEST_PICKLE_PATH if DATA_DIR is None else os.path.join(DATA_DIR, TEST_PICKLE_PATH))\n",
    "    data = pd.concat([train, test])\n",
    "\n",
    "print(\"{} train samples and {} test samples\".format(len(train), len(test)))"
   ]
  },
  {
   "cell_type": "code",
   "execution_count": 9,
   "metadata": {
    "scrolled": false,
    "pycharm": {
     "name": "#%%\n"
    }
   },
   "outputs": [
    {
     "name": "stdout",
     "output_type": "stream",
     "text": [
      "Total 2000 items and 1130 users in the dataset\n"
     ]
    }
   ],
   "source": [
    "# Unique items in the dataset\n",
    "if ITEM_FEAT_COL is None:\n",
    "    items = data.drop_duplicates(ITEM_COL)[[ITEM_COL]].reset_index(drop=True)\n",
    "    item_feat_shape = None\n",
    "else:\n",
    "    items = data.drop_duplicates(ITEM_COL)[[ITEM_COL, ITEM_FEAT_COL]].reset_index(drop=True)\n",
    "    item_feat_shape = len(items[ITEM_FEAT_COL][0])\n",
    "# Unique users in the dataset\n",
    "users = data.drop_duplicates(USER_COL)[[USER_COL]].reset_index(drop=True)\n",
    "\n",
    "print(\"Total {} items and {} users in the dataset\".format(len(items), len(users)))"
   ]
  },
  {
   "cell_type": "markdown",
   "metadata": {
    "pycharm": {
     "name": "#%% md\n"
    }
   },
   "source": [
    "### 2. Build Model\n",
    "\n",
    "Wide-and-deep model consists of a linear model and DNN. We use the following hyperparameters and feature sets for the model:\n",
    "\n",
    "<br> | <div align=\"center\">Wide (linear) model</div> | <div align=\"center\">Deep neural networks</div>\n",
    "---|---|---\n",
    "Feature set | <ul><li>User-item co-occurrence features<br>to capture how their co-occurrence<br>correlates with the target rating</li></ul> | <ul><li>Deep, lower-dimensional embedding vectors<br>for every user and item</li><li>Item feature vector</li></ul>\n",
    "Hyperparameters | <ul><li>FTRL optimizer</li><li>Learning rate = 0.0029</li><li>L1 regularization = 0.0</li></ul> | <ul><li>Adagrad optimizer</li><li>Learning rate = 0.1</li><li>Hidden units = [128, 256, 32]</li><li>Dropout rate = 0.4</li><li>Use batch normalization (Batch size = 64)</li><li>User embedding vector size = 4</li><li>Item embedding vector size = 4</li></ul>\n",
    "\n",
    "<br>\n",
    "\n",
    "* [FTRL optimizer](https://www.eecs.tufts.edu/~dsculley/papers/ad-click-prediction.pdf)\n",
    "* [Adagrad optimizer](http://www.jmlr.org/papers/volume12/duchi11a/duchi11a.pdf)\n",
    "\n",
    "Note, the hyperparameters are optimized for the training set. We used **Azure Machine Learning service** ([AzureML](https://azure.microsoft.com/en-us/services/machine-learning-service/)) to find the best hyperparameters, where we further split the training set into two subsets for training and validation respectively so that the test set is being separated from the tuning and training phases. For more details, see [azureml_hyperdrive_wide_and_deep.ipynb](../04_model_select_and_optimize/azureml_hyperdrive_wide_and_deep.ipynb)."
   ]
  },
  {
   "cell_type": "code",
   "execution_count": 10,
   "metadata": {
    "pycharm": {
     "name": "#%%\n"
    }
   },
   "outputs": [],
   "source": [
    "# Create model checkpoint every n steps. We store the model 5 times.\n",
    "save_checkpoints_steps = max(1, STEPS // 5)"
   ]
  },
  {
   "cell_type": "code",
   "execution_count": 11,
   "metadata": {
    "pycharm": {
     "name": "#%%\n"
    }
   },
   "outputs": [
    {
     "name": "stdout",
     "output_type": "stream",
     "text": [
      "Wide feature specs:\n",
      "\t VocabularyListCategoricalColumn(key='user_id', vocabulary_list=(1, 2, 3, 4, 5, 6, 7, 8, 9, 10, 11, 1 ...\n",
      "\t VocabularyListCategoricalColumn(key='record_id', vocabulary_list=(455, 1272, 1982, 530, 566, 654, 29 ...\n",
      "\t CrossedColumn(keys=(VocabularyListCategoricalColumn(key='user_id', vocabulary_list=(1, 2, 3, 4, 5, 6 ...\n",
      "Deep feature specs:\n",
      "\t EmbeddingColumn(categorical_column=VocabularyListCategoricalColumn(key='user_id', vocabulary_list=(1 ...\n",
      "\t EmbeddingColumn(categorical_column=VocabularyListCategoricalColumn(key='record_id', vocabulary_list= ...\n",
      "\t NumericColumn(key='genres', shape=(30,), default_value=None, dtype=tf.float32, normalizer_fn=None) ...\n"
     ]
    }
   ],
   "source": [
    "# Define wide (linear) and deep (dnn) features\n",
    "wide_columns, deep_columns = wide_deep.build_feature_columns(\n",
    "    users=users[USER_COL].values,\n",
    "    items=items[ITEM_COL].values,\n",
    "    user_col=USER_COL,\n",
    "    item_col=ITEM_COL,\n",
    "    item_feat_col=ITEM_FEAT_COL,\n",
    "    crossed_feat_dim=1000,\n",
    "    user_dim=DNN_USER_DIM,\n",
    "    item_dim=DNN_ITEM_DIM,\n",
    "    item_feat_shape=item_feat_shape,\n",
    "    model_type=MODEL_TYPE,\n",
    ")\n",
    "\n",
    "print(\"Wide feature specs:\")\n",
    "for c in wide_columns:\n",
    "    print(\"\\t\", str(c)[:100], \"...\")\n",
    "print(\"Deep feature specs:\")\n",
    "for c in deep_columns:\n",
    "    print(\"\\t\", str(c)[:100], \"...\")"
   ]
  },
  {
   "cell_type": "code",
   "execution_count": 12,
   "metadata": {
    "pycharm": {
     "name": "#%%\n"
    }
   },
   "outputs": [],
   "source": [
    "# Build a model based on the parameters\n",
    "model = wide_deep.build_model(\n",
    "    model_dir=model_dir,\n",
    "    wide_columns=wide_columns,\n",
    "    deep_columns=deep_columns,\n",
    "    linear_optimizer=tf_utils.build_optimizer(LINEAR_OPTIMIZER, LINEAR_OPTIMIZER_LR, **{\n",
    "        'l1_regularization_strength': LINEAR_L1_REG,\n",
    "        'l2_regularization_strength': LINEAR_L2_REG,\n",
    "        'momentum': LINEAR_MOMENTUM,\n",
    "    }),\n",
    "    dnn_optimizer=tf_utils.build_optimizer(DNN_OPTIMIZER, DNN_OPTIMIZER_LR, **{\n",
    "        'l1_regularization_strength': DNN_L1_REG,\n",
    "        'l2_regularization_strength': DNN_L2_REG,\n",
    "        'momentum': DNN_MOMENTUM,  \n",
    "    }),\n",
    "    dnn_hidden_units=DNN_HIDDEN_UNITS,\n",
    "    dnn_dropout=DNN_DROPOUT,\n",
    "    dnn_batch_norm=(DNN_BATCH_NORM==1),\n",
    "    log_every_n_iter=max(1, STEPS//10),  # log 10 times\n",
    "    save_checkpoints_steps=save_checkpoints_steps,\n",
    "    seed=RANDOM_SEED\n",
    ")"
   ]
  },
  {
   "cell_type": "markdown",
   "metadata": {
    "pycharm": {
     "name": "#%% md\n"
    }
   },
   "source": [
    "### 3. Train and Evaluate Model\n",
    "\n",
    "Now we are all set to train the model. Here, we show how to utilize session hooks to track model performance while training. Our custom hook `tf_utils.evaluation_log_hook` estimates the model performance on the given data based on the specified evaluation functions. Note we pass test set to evaluate the model on rating metrics while we use <span id=\"ranking-pool\">ranking-pool (all the user-item pairs)</span> for ranking metrics.\n",
    "\n",
    "> Note: The TensorFlow Estimator's default loss calculates Mean Squared Error. Square root of the loss is the same as [RMSE](https://en.wikipedia.org/wiki/Root-mean-square_deviation)."
   ]
  },
  {
   "cell_type": "code",
   "execution_count": 13,
   "metadata": {
    "pycharm": {
     "name": "#%%\n"
    }
   },
   "outputs": [],
   "source": [
    "cols = {\n",
    "    'col_user': USER_COL,\n",
    "    'col_item': ITEM_COL,\n",
    "    'col_rating': RATING_COL,\n",
    "    'col_prediction': PREDICT_COL,\n",
    "}\n",
    "\n",
    "# Prepare ranking evaluation set, i.e. get the cross join of all user-item pairs\n",
    "ranking_pool = user_item_pairs(\n",
    "    user_df=users,\n",
    "    item_df=items,\n",
    "    user_col=USER_COL,\n",
    "    item_col=ITEM_COL,\n",
    "    user_item_filter_df=train,  # Remove seen items\n",
    "    shuffle=True,\n",
    "    seed=RANDOM_SEED\n",
    ")"
   ]
  },
  {
   "cell_type": "code",
   "execution_count": 14,
   "metadata": {
    "scrolled": false,
    "pycharm": {
     "name": "#%%\n"
    }
   },
   "outputs": [],
   "source": [
    "# Define training hooks to track performance while training\n",
    "hooks = []\n",
    "if EVALUATE_WHILE_TRAINING:\n",
    "    evaluation_logger = tf_utils.MetricsLogger()\n",
    "    for metrics in (RANKING_METRICS, RATING_METRICS):\n",
    "        if len(metrics) > 0:\n",
    "            hooks.append(\n",
    "                tf_utils.evaluation_log_hook(\n",
    "                    model,\n",
    "                    logger=evaluation_logger,\n",
    "                    true_df=test,\n",
    "                    y_col=RATING_COL,\n",
    "                    eval_df=ranking_pool if metrics==RANKING_METRICS else test.drop(RATING_COL, axis=1),\n",
    "                    every_n_iter=save_checkpoints_steps,\n",
    "                    model_dir=model_dir,\n",
    "                    eval_fns=[evaluator.metrics[m] for m in metrics],\n",
    "                    **({**cols, 'k': TOP_K} if metrics==RANKING_METRICS else cols)\n",
    "                )\n",
    "            )\n",
    "\n",
    "# Define training input (sample feeding) function\n",
    "train_fn = tf_utils.pandas_input_fn(\n",
    "    df=train,\n",
    "    y_col=RATING_COL,\n",
    "    batch_size=BATCH_SIZE,\n",
    "    num_epochs=None,  # We use steps=TRAIN_STEPS instead.\n",
    "    shuffle=True,\n",
    "    seed=RANDOM_SEED,\n",
    ")"
   ]
  },
  {
   "cell_type": "markdown",
   "metadata": {
    "pycharm": {
     "name": "#%% md\n"
    }
   },
   "source": [
    "Let's train the model."
   ]
  },
  {
   "cell_type": "code",
   "execution_count": 15,
   "metadata": {
    "scrolled": false,
    "pycharm": {
     "name": "#%%\n"
    }
   },
   "outputs": [
    {
     "name": "stdout",
     "output_type": "stream",
     "text": [
      "Training steps = 50000, Batch size = 32 (num epochs = 6)\n",
      "WARNING:tensorflow:From C:\\Users\\kazim\\Sources\\senvaitis\\recommenders\\venv\\lib\\site-packages\\tensorflow_core\\python\\training\\training_util.py:236: Variable.initialized_value (from tensorflow.python.ops.variables) is deprecated and will be removed in a future version.\n",
      "Instructions for updating:\n",
      "Use Variable.read_value. Variables in 2.X are initialized automatically both in eager and graph (inside tf.defun) contexts.\n",
      "WARNING:tensorflow:From C:\\Users\\kazim\\Sources\\senvaitis\\recommenders\\venv\\lib\\site-packages\\tensorflow_core\\python\\data\\util\\random_seed.py:58: where (from tensorflow.python.ops.array_ops) is deprecated and will be removed in a future version.\n",
      "Instructions for updating:\n",
      "Use tf.where in 2.0, which has the same broadcast rule as np.where\n",
      "INFO:tensorflow:Calling model_fn.\n",
      "WARNING:tensorflow:From C:\\Users\\kazim\\Sources\\senvaitis\\recommenders\\venv\\lib\\site-packages\\tensorflow_core\\python\\feature_column\\feature_column_v2.py:3079: VocabularyListCategoricalColumn._num_buckets (from tensorflow.python.feature_column.feature_column_v2) is deprecated and will be removed in a future version.\n",
      "Instructions for updating:\n",
      "The old _FeatureColumn APIs are being deprecated. Please use the new FeatureColumn APIs instead.\n",
      "WARNING:tensorflow:From C:\\Users\\kazim\\Sources\\senvaitis\\recommenders\\venv\\lib\\site-packages\\tensorflow_core\\python\\feature_column\\feature_column_v2.py:305: Layer.add_variable (from tensorflow.python.keras.engine.base_layer) is deprecated and will be removed in a future version.\n",
      "Instructions for updating:\n",
      "Please use `layer.add_weight` method instead.\n",
      "WARNING:tensorflow:From C:\\Users\\kazim\\Sources\\senvaitis\\recommenders\\venv\\lib\\site-packages\\tensorflow_core\\python\\ops\\resource_variable_ops.py:1630: calling BaseResourceVariable.__init__ (from tensorflow.python.ops.resource_variable_ops) with constraint is deprecated and will be removed in a future version.\n",
      "Instructions for updating:\n",
      "If using Keras pass *_constraint arguments to layers.\n",
      "WARNING:tensorflow:Large dropout rate: 0.8 (>0.5). In TensorFlow 2.x, dropout() uses dropout rate instead of keep_prob. Please ensure that this is intended.\n",
      "WARNING:tensorflow:Large dropout rate: 0.8 (>0.5). In TensorFlow 2.x, dropout() uses dropout rate instead of keep_prob. Please ensure that this is intended.\n",
      "WARNING:tensorflow:Large dropout rate: 0.8 (>0.5). In TensorFlow 2.x, dropout() uses dropout rate instead of keep_prob. Please ensure that this is intended.\n",
      "WARNING:tensorflow:From C:\\Users\\kazim\\Sources\\senvaitis\\recommenders\\venv\\lib\\site-packages\\tensorflow_estimator\\python\\estimator\\canned\\linear.py:308: to_float (from tensorflow.python.ops.math_ops) is deprecated and will be removed in a future version.\n",
      "Instructions for updating:\n",
      "Use `tf.cast` instead.\n",
      "WARNING:tensorflow:From C:\\Users\\kazim\\Sources\\senvaitis\\recommenders\\venv\\lib\\site-packages\\tensorflow_core\\python\\training\\adagrad.py:76: calling Constant.__init__ (from tensorflow.python.ops.init_ops) with dtype is deprecated and will be removed in a future version.\n",
      "Instructions for updating:\n",
      "Call initializer instance with the dtype argument instead of passing it to the constructor\n",
      "INFO:tensorflow:Done calling model_fn.\n",
      "INFO:tensorflow:Create CheckpointSaverHook.\n",
      "INFO:tensorflow:Graph was finalized.\n",
      "INFO:tensorflow:Running local_init_op.\n",
      "INFO:tensorflow:Done running local_init_op.\n",
      "INFO:tensorflow:Saving checkpoints for 0 into C:\\Users\\kazim\\Sources\\senvaitis\\recommenders\\examples\\00_quick_start\\outputs\\tensorboard\\model.ckpt.\n",
      "INFO:tensorflow:loss = 50.699463, step = 1\n",
      "INFO:tensorflow:global_step/sec: 411.59\n",
      "INFO:tensorflow:loss = 13.744769, step = 5001 (12.148 sec)\n",
      "INFO:tensorflow:Saving checkpoints for 10000 into C:\\Users\\kazim\\Sources\\senvaitis\\recommenders\\examples\\00_quick_start\\outputs\\tensorboard\\model.ckpt.\n",
      "INFO:tensorflow:global_step/sec: 116.657\n",
      "INFO:tensorflow:loss = 1.1719348, step = 10001 (42.861 sec)\n",
      "INFO:tensorflow:global_step/sec: 353.65\n",
      "INFO:tensorflow:loss = 2.1208029, step = 15001 (14.138 sec)\n",
      "INFO:tensorflow:Saving checkpoints for 20000 into C:\\Users\\kazim\\Sources\\senvaitis\\recommenders\\examples\\00_quick_start\\outputs\\tensorboard\\model.ckpt.\n",
      "INFO:tensorflow:global_step/sec: 107.156\n",
      "INFO:tensorflow:loss = 0.09853749, step = 20001 (46.662 sec)\n",
      "INFO:tensorflow:global_step/sec: 335.393\n",
      "INFO:tensorflow:loss = 1.5949366, step = 25001 (14.906 sec)\n",
      "INFO:tensorflow:Saving checkpoints for 30000 into C:\\Users\\kazim\\Sources\\senvaitis\\recommenders\\examples\\00_quick_start\\outputs\\tensorboard\\model.ckpt.\n",
      "INFO:tensorflow:global_step/sec: 102.468\n",
      "INFO:tensorflow:loss = 1.0249778, step = 30001 (48.797 sec)\n",
      "INFO:tensorflow:global_step/sec: 328.774\n",
      "INFO:tensorflow:loss = 0.7966825, step = 35001 (15.208 sec)\n",
      "INFO:tensorflow:Saving checkpoints for 40000 into C:\\Users\\kazim\\Sources\\senvaitis\\recommenders\\examples\\00_quick_start\\outputs\\tensorboard\\model.ckpt.\n",
      "INFO:tensorflow:global_step/sec: 97.0592\n",
      "INFO:tensorflow:loss = 1.0313667, step = 40001 (51.515 sec)\n",
      "INFO:tensorflow:global_step/sec: 326.668\n",
      "INFO:tensorflow:loss = 0.18758905, step = 45001 (15.306 sec)\n",
      "INFO:tensorflow:Saving checkpoints for 50000 into C:\\Users\\kazim\\Sources\\senvaitis\\recommenders\\examples\\00_quick_start\\outputs\\tensorboard\\model.ckpt.\n",
      "WARNING:tensorflow:From C:\\Users\\kazim\\Sources\\senvaitis\\recommenders\\venv\\lib\\site-packages\\tensorflow_core\\python\\training\\saver.py:963: remove_checkpoint (from tensorflow.python.training.checkpoint_management) is deprecated and will be removed in a future version.\n",
      "Instructions for updating:\n",
      "Use standard file APIs to delete files with this prefix.\n",
      "INFO:tensorflow:Loss for final step: 0.81322193.\n"
     ]
    }
   ],
   "source": [
    "print(\n",
    "    \"Training steps = {}, Batch size = {} (num epochs = {})\"\n",
    "    .format(STEPS, BATCH_SIZE, (STEPS*BATCH_SIZE)//len(train))\n",
    ")\n",
    "tf.compat.v1.logging.set_verbosity(tf.compat.v1.logging.INFO)\n",
    "\n",
    "try:\n",
    "    model.train(\n",
    "        input_fn=train_fn,\n",
    "        hooks=hooks,\n",
    "        steps=STEPS\n",
    "    )\n",
    "except tf.train.NanLossDuringTrainingError:\n",
    "    import warnings\n",
    "    warnings.warn(\n",
    "        \"Training stopped with NanLossDuringTrainingError. \"\n",
    "        \"Try other optimizers, smaller batch size and/or smaller learning rate.\"\n",
    "    )"
   ]
  },
  {
   "cell_type": "code",
   "execution_count": 16,
   "metadata": {
    "pycharm": {
     "name": "#%%\n"
    }
   },
   "outputs": [
    {
     "data": {
      "application/scrapbook.scrap.json+json": {
       "name": "eval_ndcg_at_k",
       "data": [
        0.03499067380975878,
        0.036685375772795556,
        0.036846674442275094,
        0.03691459192886261,
        0.03664649844098063
       ],
       "encoder": "json",
       "version": 1
      }
     },
     "metadata": {
      "scrapbook": {
       "name": "eval_ndcg_at_k",
       "data": true,
       "display": false
      }
     },
     "output_type": "display_data"
    },
    {
     "data": {
      "application/scrapbook.scrap.json+json": {
       "name": "eval_precision_at_k",
       "data": [
        0.033185840707964605,
        0.03725663716814159,
        0.03707964601769912,
        0.037256637168141586,
        0.03672566371681416
       ],
       "encoder": "json",
       "version": 1
      }
     },
     "metadata": {
      "scrapbook": {
       "name": "eval_precision_at_k",
       "data": true,
       "display": false
      }
     },
     "output_type": "display_data"
    },
    {
     "data": {
      "application/scrapbook.scrap.json+json": {
       "name": "eval_rmse",
       "data": [
        0.2047819053603377,
        0.2136656716228942,
        0.21187438577467266,
        0.21213781752634522,
        0.21074663242404199
       ],
       "encoder": "json",
       "version": 1
      }
     },
     "metadata": {
      "scrapbook": {
       "name": "eval_rmse",
       "data": true,
       "display": false
      }
     },
     "output_type": "display_data"
    },
    {
     "data": {
      "application/scrapbook.scrap.json+json": {
       "name": "eval_mae",
       "data": [
        0.13608949277506974,
        0.16734902365540913,
        0.16533223317761925,
        0.1659373507120163,
        0.16334591090998243
       ],
       "encoder": "json",
       "version": 1
      }
     },
     "metadata": {
      "scrapbook": {
       "name": "eval_mae",
       "data": true,
       "display": false
      }
     },
     "output_type": "display_data"
    },
    {
     "data": {
      "text/plain": "<Figure size 720x720 with 4 Axes>",
      "image/png": "[encoded data removed]"
     },
     "metadata": {
      "needs_background": "light"
     },
     "output_type": "display_data"
    }
   ],
   "source": [
    "if EVALUATE_WHILE_TRAINING:\n",
    "    logs = evaluation_logger.get_log()\n",
    "    for i, (m, v) in enumerate(logs.items(), 1):\n",
    "        sb.glue(\"eval_{}\".format(m), v)\n",
    "        x = [save_checkpoints_steps*i for i in range(1, len(v)+1)]\n",
    "        plot.line_graph(\n",
    "            values=list(zip(v, x)),\n",
    "            labels=m,\n",
    "            x_name=\"steps\",\n",
    "            y_name=m,\n",
    "            subplot=(math.ceil(len(logs)/2), 2, i),\n",
    "        )"
   ]
  },
  {
   "cell_type": "markdown",
   "metadata": {
    "pycharm": {
     "name": "#%% md\n"
    }
   },
   "source": [
    "#### 3.2 TensorBoard\n",
    "\n",
    "Once the train is done, you can browse the details of the training results as well as the metrics we logged from [TensorBoard](https://www.tensorflow.org/guide/summaries_and_tensorboard).\n",
    "\n",
    "[]()|[]()|[]()\n",
    ":---:|:---:|:---:\n",
    "<img src=\"https://recodatasets.z20.web.core.windows.net/images/tensorboard_0.png?sanitize=true\"> |  <img src=\"https://recodatasets.z20.web.core.windows.net/images/tensorboard_1.png?sanitize=true\"> | <img src=\"https://recodatasets.z20.web.core.windows.net/images/tensorboard_2.png?sanitize=true\">\n",
    "\n",
    "To open the TensorBoard, open a terminal from the same directory of this notebook, run `tensorboard --logdir=model_checkpoints`, and open http://localhost:6006 from a browser.\n",
    "\n"
   ]
  },
  {
   "cell_type": "markdown",
   "metadata": {
    "pycharm": {
     "name": "#%% md\n"
    }
   },
   "source": [
    "### 4. Test and Export Model\n",
    "\n",
    "#### 4.1 Item rating prediction"
   ]
  },
  {
   "cell_type": "code",
   "execution_count": 17,
   "metadata": {
    "pycharm": {
     "name": "#%%\n"
    }
   },
   "outputs": [
    {
     "name": "stdout",
     "output_type": "stream",
     "text": [
      "INFO:tensorflow:Calling model_fn.\n",
      "INFO:tensorflow:Done calling model_fn.\n",
      "INFO:tensorflow:Graph was finalized.\n",
      "INFO:tensorflow:Restoring parameters from C:\\Users\\kazim\\Sources\\senvaitis\\recommenders\\examples\\00_quick_start\\outputs\\tensorboard\\model.ckpt-50000\n",
      "INFO:tensorflow:Running local_init_op.\n",
      "INFO:tensorflow:Done running local_init_op.\n"
     ]
    },
    {
     "data": {
      "application/scrapbook.scrap.json+json": {
       "name": "rmse",
       "data": 0.21074663242706482,
       "encoder": "json",
       "version": 1
      }
     },
     "metadata": {
      "scrapbook": {
       "name": "rmse",
       "data": true,
       "display": false
      }
     },
     "output_type": "display_data"
    },
    {
     "data": {
      "application/scrapbook.scrap.json+json": {
       "name": "mae",
       "data": 0.16334591090231237,
       "encoder": "json",
       "version": 1
      }
     },
     "metadata": {
      "scrapbook": {
       "name": "mae",
       "data": true,
       "display": false
      }
     },
     "output_type": "display_data"
    },
    {
     "name": "stdout",
     "output_type": "stream",
     "text": [
      "{'rmse': 0.21074663242706482, 'mae': 0.16334591090231237}\n"
     ]
    }
   ],
   "source": [
    "if len(RATING_METRICS) > 0:\n",
    "    predictions = list(model.predict(input_fn=tf_utils.pandas_input_fn(df=test)))\n",
    "    prediction_df = test.drop(RATING_COL, axis=1)\n",
    "    prediction_df[PREDICT_COL] = [p['predictions'][0] for p in predictions]\n",
    "    \n",
    "    rating_results = {}\n",
    "    for m in RATING_METRICS:\n",
    "        result = evaluator.metrics[m](test, prediction_df, **cols)\n",
    "        sb.glue(m, result)\n",
    "        rating_results[m] = result\n",
    "    print(rating_results)"
   ]
  },
  {
   "cell_type": "markdown",
   "metadata": {
    "pycharm": {
     "name": "#%% md\n"
    }
   },
   "source": [
    "#### 4.2 Recommend k items\n",
    "For top-k recommendation evaluation, we use the ranking pool (all the user-item pairs) we prepared at the [training step](#ranking-pool). The difference is we remove users' seen items from the pool in this step which is more natural to the movie recommendation scenario."
   ]
  },
  {
   "cell_type": "code",
   "execution_count": 18,
   "metadata": {
    "pycharm": {
     "name": "#%%\n"
    }
   },
   "outputs": [
    {
     "name": "stdout",
     "output_type": "stream",
     "text": [
      "INFO:tensorflow:Calling model_fn.\n",
      "INFO:tensorflow:Done calling model_fn.\n",
      "INFO:tensorflow:Graph was finalized.\n",
      "INFO:tensorflow:Restoring parameters from C:\\Users\\kazim\\Sources\\senvaitis\\recommenders\\examples\\00_quick_start\\outputs\\tensorboard\\model.ckpt-50000\n",
      "INFO:tensorflow:Running local_init_op.\n",
      "INFO:tensorflow:Done running local_init_op.\n"
     ]
    },
    {
     "data": {
      "application/scrapbook.scrap.json+json": {
       "name": "ndcg_at_k",
       "data": 0.03664649844098063,
       "encoder": "json",
       "version": 1
      }
     },
     "metadata": {
      "scrapbook": {
       "name": "ndcg_at_k",
       "data": true,
       "display": false
      }
     },
     "output_type": "display_data"
    },
    {
     "data": {
      "application/scrapbook.scrap.json+json": {
       "name": "precision_at_k",
       "data": 0.03672566371681416,
       "encoder": "json",
       "version": 1
      }
     },
     "metadata": {
      "scrapbook": {
       "name": "precision_at_k",
       "data": true,
       "display": false
      }
     },
     "output_type": "display_data"
    },
    {
     "name": "stdout",
     "output_type": "stream",
     "text": [
      "{'ndcg_at_k': 0.03664649844098063, 'precision_at_k': 0.03672566371681416}\n"
     ]
    }
   ],
   "source": [
    "if len(RANKING_METRICS) > 0:\n",
    "    predictions = list(model.predict(input_fn=tf_utils.pandas_input_fn(df=ranking_pool)))\n",
    "    prediction_df = ranking_pool.copy()\n",
    "    prediction_df[PREDICT_COL] = [p['predictions'][0] for p in predictions]\n",
    "\n",
    "    ranking_results = {}\n",
    "    for m in RANKING_METRICS:\n",
    "        result = evaluator.metrics[m](test, prediction_df, **{**cols, 'k': TOP_K})\n",
    "        sb.glue(m, result)\n",
    "        ranking_results[m] = result\n",
    "    print(ranking_results)"
   ]
  },
  {
   "cell_type": "markdown",
   "metadata": {
    "pycharm": {
     "name": "#%% md\n"
    }
   },
   "source": [
    "#### 4.3 Export Model\n",
    "Finally, we export the model so that we can load later for re-training, evaluation, and prediction.\n",
    "Examples of how to load, re-train, and evaluate the saved model can be found from [azureml_hyperdrive_wide_and_deep.ipynb](../04_model_select_and_optimize/azureml_hyperdrive_wide_and_deep.ipynb) notebook."
   ]
  },
  {
   "cell_type": "code",
   "execution_count": 19,
   "metadata": {
    "pycharm": {
     "name": "#%%\n"
    }
   },
   "outputs": [],
   "source": [
    "os.makedirs(EXPORT_DIR_BASE, exist_ok=True)"
   ]
  },
  {
   "cell_type": "code",
   "execution_count": 20,
   "metadata": {
    "scrolled": true,
    "pycharm": {
     "name": "#%%\n"
    }
   },
   "outputs": [
    {
     "data": {
      "application/scrapbook.scrap.text+json": {
       "name": "saved_model_dir",
       "data": ".\\outputs\\model\\1652675426",
       "encoder": "text",
       "version": 1
      }
     },
     "metadata": {
      "scrapbook": {
       "name": "saved_model_dir",
       "data": true,
       "display": false
      }
     },
     "output_type": "display_data"
    },
    {
     "name": "stdout",
     "output_type": "stream",
     "text": [
      "Model exported to .\\outputs\\model\\1652675426\n"
     ]
    }
   ],
   "source": [
    "exported_path = tf_utils.export_model(\n",
    "    model=model,\n",
    "    train_input_fn=train_fn,\n",
    "    eval_input_fn=tf_utils.pandas_input_fn(\n",
    "        df=test, y_col=RATING_COL\n",
    "    ),\n",
    "    tf_feat_cols=wide_columns+deep_columns,\n",
    "    base_dir=EXPORT_DIR_BASE\n",
    ")\n",
    "sb.glue('saved_model_dir', str(exported_path))\n",
    "print(\"Model exported to\", str(exported_path))"
   ]
  },
  {
   "cell_type": "code",
   "execution_count": 21,
   "metadata": {
    "pycharm": {
     "name": "#%%\n"
    }
   },
   "outputs": [],
   "source": [
    "# Close the event file so that the model folder can be cleaned up.\n",
    "summary_writer = tf.compat.v1.summary.FileWriterCache.get(model.model_dir)\n",
    "summary_writer.close()\n",
    "\n",
    "# Cleanup temporary directory if used\n",
    "if TMP_DIR is not None:\n",
    "    TMP_DIR.cleanup()"
   ]
  }
 ],
 "metadata": {
  "interpreter": {
   "hash": "3a9a0c422ff9f08d62211b9648017c63b0a26d2c935edc37ebb8453675d13bb5"
  },
  "kernelspec": {
   "display_name": "Python 3 (ipykernel)",
   "language": "python",
   "name": "python3"
  },
  "language_info": {
   "codemirror_mode": {
    "name": "ipython",
    "version": 3
   },
   "file_extension": ".py",
   "mimetype": "text/x-python",
   "name": "python",
   "nbconvert_exporter": "python",
   "pygments_lexer": "ipython3",
   "version": "3.9.9"
  }
 },
 "nbformat": 4,
 "nbformat_minor": 2
}