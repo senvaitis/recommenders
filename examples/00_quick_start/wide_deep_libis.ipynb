{
 "cells": [
  {
   "cell_type": "markdown",
   "metadata": {
    "pycharm": {
     "name": "#%% md\n"
    }
   },
   "source": [
    "# Wide and Deep Model for LIBIS Recommendations\n",
    "\n",
    "<br>\n",
    "\n",
    "A linear model with a wide set of crossed-column (co-occurrence) features can memorize the feature interactions, while deep neural networks (DNN) can generalize the feature patterns through low-dimensional dense embeddings learned for the sparse features. [**Wide-and-deep**](https://arxiv.org/abs/1606.07792) learning jointly trains wide linear model and deep neural networks to combine the benefits of memorization and generalization for recommender systems.\n",
    "\n",
    "This notebook shows how to build and test the wide-and-deep model using [TensorFlow high-level Estimator API](https://www.tensorflow.org/api_docs/python/tf/estimator/DNNLinearCombinedRegressor). With the [movie recommendation dataset](https://grouplens.org/datasets/movielens/), we quickly demonstrate following topics:\n",
    "1. How to prepare data\n",
    "2. Build the model\n",
    "3. Use log-hook to estimate performance while training\n",
    "4. Test the model and export"
   ]
  },
  {
   "cell_type": "markdown",
   "source": [
    "To run project, first install it by running:\n",
    "pip install .\n",
    "pip install -e .[examples]\n",
    "pip install tensorflow-gpu==1.15.0"
   ],
   "metadata": {
    "collapsed": false,
    "pycharm": {
     "name": "#%% md\n"
    }
   }
  },
  {
   "cell_type": "code",
   "execution_count": 5,
   "metadata": {
    "pycharm": {
     "name": "#%%\n"
    }
   },
   "outputs": [],
   "source": [
    "%reload_ext autoreload\n",
    "%autoreload 2\n",
    "%matplotlib inline"
   ]
  },
  {
   "cell_type": "code",
   "execution_count": 6,
   "metadata": {
    "pycharm": {
     "name": "#%%\n"
    }
   },
   "outputs": [
    {
     "name": "stdout",
     "output_type": "stream",
     "text": [
      "Tensorflow Version: 1.15.0\n",
      "GPUs:\n",
      " [{'device_name': 'NVIDIA GeForce GTX 1070', 'total_memory': 8191.6875, 'free_memory': 7243.3125}]\n"
     ]
    }
   ],
   "source": [
    "import itertools\n",
    "import math\n",
    "import os\n",
    "from tempfile import TemporaryDirectory\n",
    "\n",
    "import numpy as np\n",
    "import scrapbook as sb\n",
    "import pandas as pd\n",
    "import sklearn.preprocessing\n",
    "import tensorflow as tf\n",
    "from tqdm.notebook import tqdm\n",
    "from timeit import default_timer as timer\n",
    "\n",
    "tf.get_logger().setLevel('ERROR') # only show error messages\n",
    "\n",
    "from recommenders.utils.constants import (\n",
    "    DEFAULT_LIBIS_USER_COL as USER_COL,\n",
    "    DEFAULT_LIBIS_ITEM_COL as ITEM_COL,\n",
    "    DEFAULT_LIBIS_RATING_COL as RATING_COL,\n",
    "    DEFAULT_PREDICTION_COL as PREDICT_COL,\n",
    "    DEFAULT_LIBIS_GENRE_COL as ITEM_FEAT_COL,\n",
    "    SEED\n",
    ")\n",
    "from recommenders.utils import tf_utils, gpu_utils, plot\n",
    "from recommenders.datasets.pandas_df_utils import user_item_pairs\n",
    "from recommenders.datasets.python_splitters import python_random_split\n",
    "import recommenders.evaluation.python_evaluation as evaluator\n",
    "import recommenders.models.wide_deep.wide_deep_utils as wide_deep\n",
    "\n",
    "from datetime import datetime\n",
    "from dateutil.relativedelta import relativedelta\n",
    "\n",
    "print(\"Tensorflow Version:\", tf.__version__)\n",
    "print(\"GPUs:\\n\", gpu_utils.get_gpu_info())"
   ]
  },
  {
   "cell_type": "code",
   "execution_count": 7,
   "metadata": {
    "tags": [
     "parameters"
    ],
    "pycharm": {
     "name": "#%%\n"
    }
   },
   "outputs": [],
   "source": [
    "\"\"\"Parameters (papermill)\"\"\"\n",
    "\n",
    "# Recommend top k items\n",
    "TOP_K = 10\n",
    "# Select MovieLens data size: 100k, 1m, 10m, or 20m\n",
    "MOVIELENS_DATA_SIZE = '100k'\n",
    "# Metrics to use for evaluation\n",
    "RANKING_METRICS = [\n",
    "    evaluator.ndcg_at_k.__name__,\n",
    "    evaluator.precision_at_k.__name__,\n",
    "]\n",
    "RATING_METRICS = [\n",
    "    evaluator.rmse.__name__,\n",
    "    evaluator.mae.__name__,\n",
    "]\n",
    "# Use session hook to evaluate model while training\n",
    "EVALUATE_WHILE_TRAINING = True\n",
    "\n",
    "RANDOM_SEED = SEED  # Set seed for deterministic result\n",
    "\n",
    "# Train and test set pickle file paths. If provided, use them. Otherwise, download the MovieLens dataset.\n",
    "DATA_DIR = None\n",
    "TRAIN_PICKLE_PATH = None\n",
    "TEST_PICKLE_PATH = None\n",
    "EXPORT_DIR_BASE = '.\\outputs\\model'\n",
    "# Model checkpoints directory. If None, use temp-dir.\n",
    "MODEL_DIR = 'C:\\\\Users\\\\kazim\\\\Sources\\\\senvaitis\\\\recommenders\\\\examples\\\\00_quick_start\\\\outputs\\\\tensorboard'\n",
    "# MODEL_DIR = '.\\tensorflowlogs'\n",
    "# os.makedirs(EXPORT_DIR_BASE, exist_ok=True)\n",
    "# os.makedirs(MODEL_DIR, exist_ok=True)\n",
    "\n",
    "#### Hyperparameters\n",
    "MODEL_TYPE = 'wide_deep'\n",
    "STEPS = 50000  # Number of batches to train\n",
    "BATCH_SIZE = 32\n",
    "# Wide (linear) model hyperparameters\n",
    "LINEAR_OPTIMIZER = 'adagrad'\n",
    "LINEAR_OPTIMIZER_LR = 0.0621  # Learning rate\n",
    "LINEAR_L1_REG = 0.0           # Regularization rate for FtrlOptimizer\n",
    "LINEAR_L2_REG = 0.0\n",
    "LINEAR_MOMENTUM = 0.0         # Momentum for MomentumOptimizer or RMSPropOptimizer\n",
    "# DNN model hyperparameters\n",
    "DNN_OPTIMIZER = 'adadelta'\n",
    "DNN_OPTIMIZER_LR = 0.1\n",
    "DNN_L1_REG = 0.0           # Regularization rate for FtrlOptimizer\n",
    "DNN_L2_REG = 0.0\n",
    "DNN_MOMENTUM = 0.0         # Momentum for MomentumOptimizer or RMSPropOptimizer\n",
    "# Layer dimensions. Defined as follows to make this notebook runnable from Hyperparameter tuning services like AzureML Hyperdrive\n",
    "DNN_HIDDEN_LAYER_1 = 0     # Set 0 to not use this layer\n",
    "DNN_HIDDEN_LAYER_2 = 64    # Set 0 to not use this layer\n",
    "DNN_HIDDEN_LAYER_3 = 128   # Set 0 to not use this layer\n",
    "DNN_HIDDEN_LAYER_4 = 512   # Note, at least one layer should have nodes.\n",
    "DNN_HIDDEN_UNITS = [h for h in [DNN_HIDDEN_LAYER_1, DNN_HIDDEN_LAYER_2, DNN_HIDDEN_LAYER_3, DNN_HIDDEN_LAYER_4] if h > 0]\n",
    "DNN_USER_DIM = 32          # User embedding feature dimension\n",
    "DNN_ITEM_DIM = 16          # Item embedding feature dimension\n",
    "DNN_DROPOUT = 0.8\n",
    "DNN_BATCH_NORM = 1         # 1 to use batch normalization, 0 if not."
   ]
  },
  {
   "cell_type": "code",
   "execution_count": 8,
   "metadata": {
    "pycharm": {
     "name": "#%%\n"
    }
   },
   "outputs": [],
   "source": [
    "if MODEL_DIR is None:\n",
    "    TMP_DIR = TemporaryDirectory()\n",
    "    model_dir = TMP_DIR.name\n",
    "else:\n",
    "    if os.path.exists(MODEL_DIR) and os.listdir(MODEL_DIR):\n",
    "        raise ValueError(\n",
    "            \"Model exists in {}. Use different directory name or \"\n",
    "            \"remove the existing checkpoint files first\".format(MODEL_DIR)\n",
    "        )\n",
    "    TMP_DIR = None\n",
    "    model_dir = MODEL_DIR"
   ]
  },
  {
   "cell_type": "markdown",
   "metadata": {
    "pycharm": {
     "name": "#%% md\n"
    }
   },
   "source": [
    "### 1. Prepare Data\n",
    "\n",
    "#### 1.1 Movie Rating and Genres Data\n",
    "First, download [MovieLens](https://grouplens.org/datasets/movielens/) data. Movies in the data set are tagged as one or more genres where there are total 19 genres including '*unknown*'. We load *movie genres* to use them as item features."
   ]
  },
  {
   "cell_type": "code",
   "execution_count": 9,
   "outputs": [],
   "source": [
    "# declare constants\n",
    "# DATASET = '100k'\n",
    "DATASET = '1m'\n",
    "# DATASET = '5m'\n",
    "# DATASET = '10m'\n",
    "# DATASET = '20m'\n",
    "\n",
    "MAX_ORDER_AGE_IN_MONTHS = 12\n",
    "NUM_NEGATIVES = 4\n",
    "# NUM_CLUSTERS = 10"
   ],
   "metadata": {
    "collapsed": false,
    "pycharm": {
     "name": "#%%\n"
    }
   }
  },
  {
   "cell_type": "code",
   "execution_count": 10,
   "metadata": {
    "pycharm": {
     "name": "#%%\n"
    }
   },
   "outputs": [
    {
     "name": "stdout",
     "output_type": "stream",
     "text": [
      "order count BEFORE dropping outdated orders: 4637796\n"
     ]
    },
    {
     "data": {
      "text/plain": "         user_id  record_id  order_count    id  \\\n372289      1693        481            0   481   \n2778513     9814       2782            0  2782   \n799171      3193       7788            0  7788   \n379944      1726       2393            0  2393   \n3065223    10680       1749            0  1749   \n3733845    12808       7797            0  7797   \n757173      3058       1219            0  1219   \n706034      2908        879            0   879   \n671724      2789        571            0   571   \n544209      2341       6070            0  6070   \n\n                                                     title  \\\n372289   Meilė tavo akyse : romanas / Sarah Jio. – Viln...   \n2778513  Ugnies tramdytojai : [knyga pagal filmą vaikam...   \n799171   Du lagaminai sniego : esė / Kęstutis Navakas. ...   \n379944   Gerda : romanas : antroji knyga iš ciklo \"Šeši...   \n3065223  Milijonas nuodėmingų malonumų : romanas / C.L....   \n3733845  Apsakymai / Žemaitė. – Vilnius : Vaga, 1999. –...   \n757173   Trys mano vieninteliai : romanas / Jolita Herl...   \n706034   Apgaulė : romanas / Charlotte Link. – Vilnius ...   \n671724   Rudens auka : kriminalinis romanas / Mons Kall...   \n544209   Kaip būti moterimi / Caitlin Moran. – Vilnius ...   \n\n                                                    genres  \n372289                                  Grožinė literatūra  \n2778513             Grožinė literatūra vaikams ir jaunimui  \n799171                                  Grožinė literatūra  \n379944                                  Grožinė literatūra  \n3065223                                 Grožinė literatūra  \n3733845                                 Grožinė literatūra  \n757173                                  Grožinė literatūra  \n706034                                  Grožinė literatūra  \n671724                                  Grožinė literatūra  \n544209   Grožinė literatūra|Demografija. Sociologija. S...  ",
      "text/html": "<div>\n<style scoped>\n    .dataframe tbody tr th:only-of-type {\n        vertical-align: middle;\n    }\n\n    .dataframe tbody tr th {\n        vertical-align: top;\n    }\n\n    .dataframe thead th {\n        text-align: right;\n    }\n</style>\n<table border=\"1\" class=\"dataframe\">\n  <thead>\n    <tr style=\"text-align: right;\">\n      <th></th>\n      <th>user_id</th>\n      <th>record_id</th>\n      <th>order_count</th>\n      <th>id</th>\n      <th>title</th>\n      <th>genres</th>\n    </tr>\n  </thead>\n  <tbody>\n    <tr>\n      <th>372289</th>\n      <td>1693</td>\n      <td>481</td>\n      <td>0</td>\n      <td>481</td>\n      <td>Meilė tavo akyse : romanas / Sarah Jio. – Viln...</td>\n      <td>Grožinė literatūra</td>\n    </tr>\n    <tr>\n      <th>2778513</th>\n      <td>9814</td>\n      <td>2782</td>\n      <td>0</td>\n      <td>2782</td>\n      <td>Ugnies tramdytojai : [knyga pagal filmą vaikam...</td>\n      <td>Grožinė literatūra vaikams ir jaunimui</td>\n    </tr>\n    <tr>\n      <th>799171</th>\n      <td>3193</td>\n      <td>7788</td>\n      <td>0</td>\n      <td>7788</td>\n      <td>Du lagaminai sniego : esė / Kęstutis Navakas. ...</td>\n      <td>Grožinė literatūra</td>\n    </tr>\n    <tr>\n      <th>379944</th>\n      <td>1726</td>\n      <td>2393</td>\n      <td>0</td>\n      <td>2393</td>\n      <td>Gerda : romanas : antroji knyga iš ciklo \"Šeši...</td>\n      <td>Grožinė literatūra</td>\n    </tr>\n    <tr>\n      <th>3065223</th>\n      <td>10680</td>\n      <td>1749</td>\n      <td>0</td>\n      <td>1749</td>\n      <td>Milijonas nuodėmingų malonumų : romanas / C.L....</td>\n      <td>Grožinė literatūra</td>\n    </tr>\n    <tr>\n      <th>3733845</th>\n      <td>12808</td>\n      <td>7797</td>\n      <td>0</td>\n      <td>7797</td>\n      <td>Apsakymai / Žemaitė. – Vilnius : Vaga, 1999. –...</td>\n      <td>Grožinė literatūra</td>\n    </tr>\n    <tr>\n      <th>757173</th>\n      <td>3058</td>\n      <td>1219</td>\n      <td>0</td>\n      <td>1219</td>\n      <td>Trys mano vieninteliai : romanas / Jolita Herl...</td>\n      <td>Grožinė literatūra</td>\n    </tr>\n    <tr>\n      <th>706034</th>\n      <td>2908</td>\n      <td>879</td>\n      <td>0</td>\n      <td>879</td>\n      <td>Apgaulė : romanas / Charlotte Link. – Vilnius ...</td>\n      <td>Grožinė literatūra</td>\n    </tr>\n    <tr>\n      <th>671724</th>\n      <td>2789</td>\n      <td>571</td>\n      <td>0</td>\n      <td>571</td>\n      <td>Rudens auka : kriminalinis romanas / Mons Kall...</td>\n      <td>Grožinė literatūra</td>\n    </tr>\n    <tr>\n      <th>544209</th>\n      <td>2341</td>\n      <td>6070</td>\n      <td>0</td>\n      <td>6070</td>\n      <td>Kaip būti moterimi / Caitlin Moran. – Vilnius ...</td>\n      <td>Grožinė literatūra|Demografija. Sociologija. S...</td>\n    </tr>\n  </tbody>\n</table>\n</div>"
     },
     "metadata": {},
     "output_type": "display_data"
    }
   ],
   "source": [
    "use_preset = (TRAIN_PICKLE_PATH is not None and TEST_PICKLE_PATH is not None)\n",
    "if not use_preset:\n",
    "    # The genres of each movie are returned as '|' separated string, e.g. \"Animation|Children's|Comedy\".\n",
    "    data = pd.read_csv(r'data/libis/' + DATASET + '/u.order-' + str(NUM_NEGATIVES) + '-negatives', sep=',',\n",
    "                     parse_dates=['timestamp'])\n",
    "    data = data[['user_id', 'record_id', 'timestamp', 'order_count']]\n",
    "    print(\"order count BEFORE dropping outdated orders: {}\".format(len(data)))\n",
    "    data = data[data['timestamp'] > (datetime.now() - relativedelta(months=MAX_ORDER_AGE_IN_MONTHS))]\n",
    "    data = data[['user_id', 'record_id', 'order_count']]\n",
    "\n",
    "    records = pd.read_csv(r'data/libis/' + DATASET + '/u.record', sep=',')\n",
    "    records = records[['id', 'title', 'genres']]\n",
    "\n",
    "    data = pd.merge(data, records, left_on='record_id', right_on='id', how='left')\n",
    "\n",
    "    # data = libis.load_pandas_df(\n",
    "    #     size=MOVIELENS_DATA_SIZE,\n",
    "    #     header=[USER_COL, ITEM_COL],\n",
    "    #     genres_col=ITEM_FEAT_COL\n",
    "    # )\n",
    "    # set genres to 'Unknown', where genres is NaN\n",
    "    # data['genres'].loc[np.isnan(data['genres'])] = 'Unknown'\n",
    "    # data[data['genres'].isnull()] = 'Unknown'\n",
    "    data[\"genres\"].fillna(\"Unknown\", inplace = True)\n",
    "\n",
    "    display(data.sample(10))\n"
   ]
  },
  {
   "cell_type": "markdown",
   "metadata": {
    "pycharm": {
     "name": "#%% md\n"
    }
   },
   "source": [
    "#### 1.2 Encode Item Features (Genres)\n",
    "To use genres from our model, we multi-hot-encode them with scikit-learn's [MultiLabelBinarizer](https://scikit-learn.org/stable/modules/generated/sklearn.preprocessing.MultiLabelBinarizer.html).\n",
    "\n",
    "For example, *Movie id=2355* has three genres, *Animation|Children's|Comedy*, which are being converted into an integer array of the indicator value for each genre like `[0, 0, 1, 1, 1, 0, 0, 0, ...]`. In the later step, we convert this into a float array and feed into the model.\n",
    "\n",
    "> For faster feature encoding, you may load ratings and items separately (by using `movielens.load_item_df`), encode the item-features, then combine the rating and item dataframes by using join-operation. "
   ]
  },
  {
   "cell_type": "code",
   "execution_count": 11,
   "metadata": {
    "pycharm": {
     "name": "#%%\n"
    }
   },
   "outputs": [
    {
     "name": "stdout",
     "output_type": "stream",
     "text": [
      "Genres: ['Architektūra' 'Astronomija. Geodezija' 'Bendrasis skyrius' 'Biografijos'\n",
      " 'Biologija' 'Botanika' 'Chemija. Mineralogija'\n",
      " 'Cheminė technologija. Chemijos pramonė'\n",
      " 'Demografija. Sociologija. Statistika' 'Ekonomika. Ekonomikos mokslai'\n",
      " 'Etnografija. Papročiai. Tautosaka' 'Filosofija, psichologija' 'Fizika'\n",
      " 'Fotografija. Kinematografija' 'Gamtos mokslai' 'Geografija'\n",
      " 'Geologija. Geofizika' 'Grafika. Graviūra' 'Grožinė literatūra'\n",
      " 'Grožinė literatūra vaikams ir jaunimui' 'Inžinerija. Technika apskritai'\n",
      " 'Istorija' 'Kalbotyra' 'Kino menas. Masinės šventės' 'Kraštotyra'\n",
      " 'Lietuvos istorija' 'Literatūros kritika ir literatūros mokslas'\n",
      " 'Medicina' 'Menas, fotografija, žaidimai, sportas' 'Muzika'\n",
      " 'Namų ūkis. Komunalinis ūkis. Buities tarnyba' 'Paleontologija'\n",
      " 'Pažintinė literatūra vaikams'\n",
      " 'Piešimas. Taikomoji dekoratyvinė dailė. Dizainas' 'Plastiniai menai'\n",
      " 'Politika' 'Rajonų planavimas. Landšafto formavimas'\n",
      " 'Religija, teologija'\n",
      " 'Socialinis aprūpinimas ir socialinė pagalba. Draudimas'\n",
      " 'Statyba. Statybinės medžiagos' 'Tapyba' 'Teatras. Scenos menas'\n",
      " 'Teisė. Teisės mokslai' 'Unknown'\n",
      " 'Valstybės administracinis valdymas. Karyba'\n",
      " 'Visuomenės mokslų teorija ir metodai' 'Zoologija'\n",
      " 'Įmonių valdymas. Gamybos, prekybos ir transporto organizavimas'\n",
      " 'Įvairios pramonės šakos ir amatai. Tikslioji mechanika'\n",
      " 'Šventės. Choreografija'\n",
      " 'Švietimas. Ugdymas. Mokymas. Laisvalaikio organizavimas'\n",
      " 'Žaidimai. Sportas' 'Žemėlapiai'\n",
      " 'Žemės ūkis. Miškų ūkis. Medžioklė. Žuvininkystė']\n"
     ]
    },
    {
     "data": {
      "text/plain": "   user_id  record_id  order_count    id  \\\n0        1       3992            1  3992   \n1        1       5782            1  5782   \n2        1       5024            1  5024   \n3        1       5330            1  5330   \n4        1       7860            1  7860   \n\n                                               title  \\\n0  Benedikto slenksčiai : romanas / Laura Sintija...   \n1  Dienos, valandos, minutės : romanas / Kristina...   \n2  Džiaugsmo ašaros : apsakymai / Viktorija Prėsk...   \n3  Marios vandens : romanas / Aldona Ruseckaitė. ...   \n4  Juozapa ir jos seserys : likimo romanas / Eglė...   \n\n                                              genres  \n0  [0, 0, 0, 0, 0, 0, 0, 0, 0, 0, 0, 0, 0, 0, 0, ...  \n1  [0, 0, 0, 0, 0, 0, 0, 0, 0, 0, 0, 0, 0, 0, 0, ...  \n2  [0, 0, 0, 0, 0, 0, 0, 0, 0, 0, 0, 0, 0, 0, 0, ...  \n3  [0, 0, 0, 0, 0, 0, 0, 0, 0, 0, 0, 0, 0, 0, 0, ...  \n4  [0, 0, 0, 0, 0, 0, 0, 0, 0, 0, 0, 0, 0, 0, 0, ...  ",
      "text/html": "<div>\n<style scoped>\n    .dataframe tbody tr th:only-of-type {\n        vertical-align: middle;\n    }\n\n    .dataframe tbody tr th {\n        vertical-align: top;\n    }\n\n    .dataframe thead th {\n        text-align: right;\n    }\n</style>\n<table border=\"1\" class=\"dataframe\">\n  <thead>\n    <tr style=\"text-align: right;\">\n      <th></th>\n      <th>user_id</th>\n      <th>record_id</th>\n      <th>order_count</th>\n      <th>id</th>\n      <th>title</th>\n      <th>genres</th>\n    </tr>\n  </thead>\n  <tbody>\n    <tr>\n      <th>0</th>\n      <td>1</td>\n      <td>3992</td>\n      <td>1</td>\n      <td>3992</td>\n      <td>Benedikto slenksčiai : romanas / Laura Sintija...</td>\n      <td>[0, 0, 0, 0, 0, 0, 0, 0, 0, 0, 0, 0, 0, 0, 0, ...</td>\n    </tr>\n    <tr>\n      <th>1</th>\n      <td>1</td>\n      <td>5782</td>\n      <td>1</td>\n      <td>5782</td>\n      <td>Dienos, valandos, minutės : romanas / Kristina...</td>\n      <td>[0, 0, 0, 0, 0, 0, 0, 0, 0, 0, 0, 0, 0, 0, 0, ...</td>\n    </tr>\n    <tr>\n      <th>2</th>\n      <td>1</td>\n      <td>5024</td>\n      <td>1</td>\n      <td>5024</td>\n      <td>Džiaugsmo ašaros : apsakymai / Viktorija Prėsk...</td>\n      <td>[0, 0, 0, 0, 0, 0, 0, 0, 0, 0, 0, 0, 0, 0, 0, ...</td>\n    </tr>\n    <tr>\n      <th>3</th>\n      <td>1</td>\n      <td>5330</td>\n      <td>1</td>\n      <td>5330</td>\n      <td>Marios vandens : romanas / Aldona Ruseckaitė. ...</td>\n      <td>[0, 0, 0, 0, 0, 0, 0, 0, 0, 0, 0, 0, 0, 0, 0, ...</td>\n    </tr>\n    <tr>\n      <th>4</th>\n      <td>1</td>\n      <td>7860</td>\n      <td>1</td>\n      <td>7860</td>\n      <td>Juozapa ir jos seserys : likimo romanas / Eglė...</td>\n      <td>[0, 0, 0, 0, 0, 0, 0, 0, 0, 0, 0, 0, 0, 0, 0, ...</td>\n    </tr>\n  </tbody>\n</table>\n</div>"
     },
     "metadata": {},
     "output_type": "display_data"
    }
   ],
   "source": [
    "if not use_preset and ITEM_FEAT_COL is not None:\n",
    "    # Encode 'genres' into int array (multi-hot representation) to use as item features\n",
    "    genres_encoder = sklearn.preprocessing.MultiLabelBinarizer()\n",
    "    data[ITEM_FEAT_COL] = genres_encoder.fit_transform(\n",
    "        data[ITEM_FEAT_COL].apply(lambda s: s.split(\"|\"))\n",
    "    ).tolist()\n",
    "    print(\"Genres:\", genres_encoder.classes_)\n",
    "    display(data.head())"
   ]
  },
  {
   "cell_type": "markdown",
   "metadata": {
    "pycharm": {
     "name": "#%% md\n"
    }
   },
   "source": [
    "#### 1.3 Train and Test Split"
   ]
  },
  {
   "cell_type": "code",
   "execution_count": 12,
   "metadata": {
    "pycharm": {
     "name": "#%%\n"
    }
   },
   "outputs": [
    {
     "name": "stdout",
     "output_type": "stream",
     "text": [
      "3014374 train samples and 753594 test samples\n"
     ]
    }
   ],
   "source": [
    "if not use_preset:\n",
    "    train, test = python_random_split(data, ratio=0.8, seed=RANDOM_SEED)\n",
    "    # # generate negative samples START\n",
    "    # user_item_label_set = set(zip(train['user_id'], train['record_id'], train['order_count']))\n",
    "    # user_item_set = set(zip(train['user_id'], train['record_id']))\n",
    "    # GENERATE_NUM_NEGATIVES = 4\n",
    "    # all_record_ids = train['record_id'].unique()\n",
    "    # negative_train = []\n",
    "    # record_id_to_genres_dic = train[['record_id', 'genres']].drop_duplicates(subset=['record_id'])\n",
    "    # print(record_id_to_genres_dic.shape)\n",
    "    # for u, i, l in tqdm(user_item_label_set):\n",
    "    #     for _ in range(GENERATE_NUM_NEGATIVES):\n",
    "    #         #print('in nested for')\n",
    "    #         random_negative_item_id = np.random.choice(all_record_ids)\n",
    "    #         #evaluating_expression = orders.loc[(orders['user_id'] == u) & (orders['record_id'] == random_negative_item_id)].bool()\n",
    "    #         #print('evaluating_expression', evaluating_expression)\n",
    "    #         while (u, random_negative_item_id) in user_item_set:\n",
    "    #             #print('generating another random negative')\n",
    "    #             random_negative_item_id = np.random.choice(all_record_ids)\n",
    "    #         #print('escaped')\n",
    "    #         random_negative_item_genres = record_id_to_genres_dic[record_id_to_genres_dic.record_id == random_negative_item_id].iloc[0].genres\n",
    "    #         negative_train.append({'user_id': u, 'record_id': random_negative_item_id, 'genres':random_negative_item_genres, 'order_count': 0})\n",
    "    # train = train.append(negative_train)\n",
    "    # display(train.sample())\n",
    "    #\n",
    "    # # END\n",
    "else:\n",
    "    train = pd.read_pickle(path=TRAIN_PICKLE_PATH if DATA_DIR is None else os.path.join(DATA_DIR, TRAIN_PICKLE_PATH))\n",
    "\n",
    "\n",
    "    test = pd.read_pickle(path=TEST_PICKLE_PATH if DATA_DIR is None else os.path.join(DATA_DIR, TEST_PICKLE_PATH))\n",
    "    data = pd.concat([train, test])\n",
    "\n",
    "print(\"{} train samples and {} test samples\".format(len(train), len(test)))"
   ]
  },
  {
   "cell_type": "code",
   "execution_count": 13,
   "metadata": {
    "scrolled": false,
    "pycharm": {
     "name": "#%%\n"
    }
   },
   "outputs": [
    {
     "name": "stdout",
     "output_type": "stream",
     "text": [
      "Total 8997 items and 12930 users in the dataset\n"
     ]
    }
   ],
   "source": [
    "# Unique items in the dataset\n",
    "if ITEM_FEAT_COL is None:\n",
    "    items = data.drop_duplicates(ITEM_COL)[[ITEM_COL]].reset_index(drop=True)\n",
    "    item_feat_shape = None\n",
    "else:\n",
    "    items = data.drop_duplicates(ITEM_COL)[[ITEM_COL, ITEM_FEAT_COL]].reset_index(drop=True)\n",
    "    item_feat_shape = len(items[ITEM_FEAT_COL][0])\n",
    "# Unique users in the dataset\n",
    "users = data.drop_duplicates(USER_COL)[[USER_COL]].reset_index(drop=True)\n",
    "\n",
    "print(\"Total {} items and {} users in the dataset\".format(len(items), len(users)))"
   ]
  },
  {
   "cell_type": "markdown",
   "metadata": {
    "pycharm": {
     "name": "#%% md\n"
    }
   },
   "source": [
    "### 2. Build Model\n",
    "\n",
    "Wide-and-deep model consists of a linear model and DNN. We use the following hyperparameters and feature sets for the model:\n",
    "\n",
    "<br> | <div align=\"center\">Wide (linear) model</div> | <div align=\"center\">Deep neural networks</div>\n",
    "---|---|---\n",
    "Feature set | <ul><li>User-item co-occurrence features<br>to capture how their co-occurrence<br>correlates with the target rating</li></ul> | <ul><li>Deep, lower-dimensional embedding vectors<br>for every user and item</li><li>Item feature vector</li></ul>\n",
    "Hyperparameters | <ul><li>FTRL optimizer</li><li>Learning rate = 0.0029</li><li>L1 regularization = 0.0</li></ul> | <ul><li>Adagrad optimizer</li><li>Learning rate = 0.1</li><li>Hidden units = [128, 256, 32]</li><li>Dropout rate = 0.4</li><li>Use batch normalization (Batch size = 64)</li><li>User embedding vector size = 4</li><li>Item embedding vector size = 4</li></ul>\n",
    "\n",
    "<br>\n",
    "\n",
    "* [FTRL optimizer](https://www.eecs.tufts.edu/~dsculley/papers/ad-click-prediction.pdf)\n",
    "* [Adagrad optimizer](http://www.jmlr.org/papers/volume12/duchi11a/duchi11a.pdf)\n",
    "\n",
    "Note, the hyperparameters are optimized for the training set. We used **Azure Machine Learning service** ([AzureML](https://azure.microsoft.com/en-us/services/machine-learning-service/)) to find the best hyperparameters, where we further split the training set into two subsets for training and validation respectively so that the test set is being separated from the tuning and training phases. For more details, see [azureml_hyperdrive_wide_and_deep.ipynb](../04_model_select_and_optimize/azureml_hyperdrive_wide_and_deep.ipynb)."
   ]
  },
  {
   "cell_type": "code",
   "execution_count": 14,
   "metadata": {
    "pycharm": {
     "name": "#%%\n"
    }
   },
   "outputs": [],
   "source": [
    "# Create model checkpoint every n steps. We store the model 5 times.\n",
    "save_checkpoints_steps = max(1, STEPS // 5)"
   ]
  },
  {
   "cell_type": "code",
   "execution_count": 15,
   "metadata": {
    "pycharm": {
     "name": "#%%\n"
    }
   },
   "outputs": [
    {
     "name": "stdout",
     "output_type": "stream",
     "text": [
      "Wide feature specs:\n",
      "\t VocabularyListCategoricalColumn(key='user_id', vocabulary_list=(1, 2, 3, 4, 5, 6, 7, 8, 9, 10, 11, 1 ...\n",
      "\t VocabularyListCategoricalColumn(key='record_id', vocabulary_list=(3992, 5782, 5024, 5330, 7860, 1860 ...\n",
      "\t CrossedColumn(keys=(VocabularyListCategoricalColumn(key='user_id', vocabulary_list=(1, 2, 3, 4, 5, 6 ...\n",
      "Deep feature specs:\n",
      "\t EmbeddingColumn(categorical_column=VocabularyListCategoricalColumn(key='user_id', vocabulary_list=(1 ...\n",
      "\t EmbeddingColumn(categorical_column=VocabularyListCategoricalColumn(key='record_id', vocabulary_list= ...\n",
      "\t NumericColumn(key='genres', shape=(54,), default_value=None, dtype=tf.float32, normalizer_fn=None) ...\n"
     ]
    }
   ],
   "source": [
    "# Define wide (linear) and deep (dnn) features\n",
    "wide_columns, deep_columns = wide_deep.build_feature_columns(\n",
    "    users=users[USER_COL].values,\n",
    "    items=items[ITEM_COL].values,\n",
    "    user_col=USER_COL,\n",
    "    item_col=ITEM_COL,\n",
    "    item_feat_col=ITEM_FEAT_COL,\n",
    "    crossed_feat_dim=1000,\n",
    "    user_dim=DNN_USER_DIM,\n",
    "    item_dim=DNN_ITEM_DIM,\n",
    "    item_feat_shape=item_feat_shape,\n",
    "    model_type=MODEL_TYPE,\n",
    ")\n",
    "\n",
    "print(\"Wide feature specs:\")\n",
    "for c in wide_columns:\n",
    "    print(\"\\t\", str(c)[:100], \"...\")\n",
    "print(\"Deep feature specs:\")\n",
    "for c in deep_columns:\n",
    "    print(\"\\t\", str(c)[:100], \"...\")"
   ]
  },
  {
   "cell_type": "code",
   "execution_count": 16,
   "metadata": {
    "pycharm": {
     "name": "#%%\n"
    }
   },
   "outputs": [],
   "source": [
    "# Build a model based on the parameters\n",
    "model = wide_deep.build_model(\n",
    "    model_dir=model_dir,\n",
    "    wide_columns=wide_columns,\n",
    "    deep_columns=deep_columns,\n",
    "    linear_optimizer=tf_utils.build_optimizer(LINEAR_OPTIMIZER, LINEAR_OPTIMIZER_LR, **{\n",
    "        'l1_regularization_strength': LINEAR_L1_REG,\n",
    "        'l2_regularization_strength': LINEAR_L2_REG,\n",
    "        'momentum': LINEAR_MOMENTUM,\n",
    "    }),\n",
    "    dnn_optimizer=tf_utils.build_optimizer(DNN_OPTIMIZER, DNN_OPTIMIZER_LR, **{\n",
    "        'l1_regularization_strength': DNN_L1_REG,\n",
    "        'l2_regularization_strength': DNN_L2_REG,\n",
    "        'momentum': DNN_MOMENTUM,  \n",
    "    }),\n",
    "    dnn_hidden_units=DNN_HIDDEN_UNITS,\n",
    "    dnn_dropout=DNN_DROPOUT,\n",
    "    dnn_batch_norm=(DNN_BATCH_NORM==1),\n",
    "    log_every_n_iter=max(1, STEPS//10),  # log 10 times\n",
    "    save_checkpoints_steps=save_checkpoints_steps,\n",
    "    seed=RANDOM_SEED\n",
    ")"
   ]
  },
  {
   "cell_type": "markdown",
   "metadata": {
    "pycharm": {
     "name": "#%% md\n"
    }
   },
   "source": [
    "### 3. Train and Evaluate Model\n",
    "\n",
    "Now we are all set to train the model. Here, we show how to utilize session hooks to track model performance while training. Our custom hook `tf_utils.evaluation_log_hook` estimates the model performance on the given data based on the specified evaluation functions. Note we pass test set to evaluate the model on rating metrics while we use <span id=\"ranking-pool\">ranking-pool (all the user-item pairs)</span> for ranking metrics.\n",
    "\n",
    "> Note: The TensorFlow Estimator's default loss calculates Mean Squared Error. Square root of the loss is the same as [RMSE](https://en.wikipedia.org/wiki/Root-mean-square_deviation)."
   ]
  },
  {
   "cell_type": "code",
   "execution_count": 17,
   "metadata": {
    "pycharm": {
     "name": "#%%\n"
    }
   },
   "outputs": [],
   "source": [
    "cols = {\n",
    "    'col_user': USER_COL,\n",
    "    'col_item': ITEM_COL,\n",
    "    'col_rating': RATING_COL,\n",
    "    'col_prediction': PREDICT_COL,\n",
    "}\n",
    "\n",
    "# Prepare ranking evaluation set, i.e. get the cross join of all user-item pairs\n",
    "ranking_pool = user_item_pairs(\n",
    "    user_df=users,\n",
    "    item_df=items,\n",
    "    user_col=USER_COL,\n",
    "    item_col=ITEM_COL,\n",
    "    user_item_filter_df=train,  # Remove seen items\n",
    "    shuffle=True,\n",
    "    seed=RANDOM_SEED\n",
    ")"
   ]
  },
  {
   "cell_type": "code",
   "execution_count": 18,
   "metadata": {
    "scrolled": false,
    "pycharm": {
     "name": "#%%\n"
    }
   },
   "outputs": [],
   "source": [
    "# Define training hooks to track performance while training\n",
    "hooks = []\n",
    "if EVALUATE_WHILE_TRAINING:\n",
    "    evaluation_logger = tf_utils.MetricsLogger()\n",
    "    for metrics in (RANKING_METRICS, RATING_METRICS):\n",
    "        if len(metrics) > 0:\n",
    "            hooks.append(\n",
    "                tf_utils.evaluation_log_hook(\n",
    "                    model,\n",
    "                    logger=evaluation_logger,\n",
    "                    true_df=test,\n",
    "                    y_col=RATING_COL,\n",
    "                    eval_df=ranking_pool if metrics==RANKING_METRICS else test.drop(RATING_COL, axis=1),\n",
    "                    every_n_iter=save_checkpoints_steps,\n",
    "                    model_dir=model_dir,\n",
    "                    eval_fns=[evaluator.metrics[m] for m in metrics],\n",
    "                    **({**cols, 'k': TOP_K} if metrics==RANKING_METRICS else cols)\n",
    "                )\n",
    "            )\n",
    "\n",
    "# Define training input (sample feeding) function\n",
    "train_fn = tf_utils.pandas_input_fn(\n",
    "    df=train,\n",
    "    y_col=RATING_COL,\n",
    "    batch_size=BATCH_SIZE,\n",
    "    num_epochs=None,  # We use steps=TRAIN_STEPS instead.\n",
    "    shuffle=True,\n",
    "    seed=RANDOM_SEED,\n",
    ")"
   ]
  },
  {
   "cell_type": "markdown",
   "metadata": {
    "pycharm": {
     "name": "#%% md\n"
    }
   },
   "source": [
    "Let's train the model."
   ]
  },
  {
   "cell_type": "code",
   "execution_count": null,
   "metadata": {
    "scrolled": false,
    "pycharm": {
     "name": "#%%\n",
     "is_executing": true
    }
   },
   "outputs": [
    {
     "name": "stdout",
     "output_type": "stream",
     "text": [
      "Training steps = 5000, Batch size = 8 (num epochs = 0)\n",
      "WARNING:tensorflow:From C:\\Users\\kazim\\Sources\\senvaitis\\recommenders\\venv\\lib\\site-packages\\tensorflow_core\\python\\training\\training_util.py:236: Variable.initialized_value (from tensorflow.python.ops.variables) is deprecated and will be removed in a future version.\n",
      "Instructions for updating:\n",
      "Use Variable.read_value. Variables in 2.X are initialized automatically both in eager and graph (inside tf.defun) contexts.\n",
      "WARNING:tensorflow:From C:\\Users\\kazim\\Sources\\senvaitis\\recommenders\\venv\\lib\\site-packages\\tensorflow_core\\python\\data\\util\\random_seed.py:58: where (from tensorflow.python.ops.array_ops) is deprecated and will be removed in a future version.\n",
      "Instructions for updating:\n",
      "Use tf.where in 2.0, which has the same broadcast rule as np.where\n",
      "INFO:tensorflow:Calling model_fn.\n",
      "WARNING:tensorflow:From C:\\Users\\kazim\\Sources\\senvaitis\\recommenders\\venv\\lib\\site-packages\\tensorflow_core\\python\\feature_column\\feature_column_v2.py:3079: VocabularyListCategoricalColumn._num_buckets (from tensorflow.python.feature_column.feature_column_v2) is deprecated and will be removed in a future version.\n",
      "Instructions for updating:\n",
      "The old _FeatureColumn APIs are being deprecated. Please use the new FeatureColumn APIs instead.\n",
      "WARNING:tensorflow:From C:\\Users\\kazim\\Sources\\senvaitis\\recommenders\\venv\\lib\\site-packages\\tensorflow_core\\python\\feature_column\\feature_column_v2.py:305: Layer.add_variable (from tensorflow.python.keras.engine.base_layer) is deprecated and will be removed in a future version.\n",
      "Instructions for updating:\n",
      "Please use `layer.add_weight` method instead.\n",
      "WARNING:tensorflow:From C:\\Users\\kazim\\Sources\\senvaitis\\recommenders\\venv\\lib\\site-packages\\tensorflow_core\\python\\ops\\resource_variable_ops.py:1630: calling BaseResourceVariable.__init__ (from tensorflow.python.ops.resource_variable_ops) with constraint is deprecated and will be removed in a future version.\n",
      "Instructions for updating:\n",
      "If using Keras pass *_constraint arguments to layers.\n",
      "WARNING:tensorflow:Large dropout rate: 0.8 (>0.5). In TensorFlow 2.x, dropout() uses dropout rate instead of keep_prob. Please ensure that this is intended.\n",
      "WARNING:tensorflow:Large dropout rate: 0.8 (>0.5). In TensorFlow 2.x, dropout() uses dropout rate instead of keep_prob. Please ensure that this is intended.\n",
      "WARNING:tensorflow:Large dropout rate: 0.8 (>0.5). In TensorFlow 2.x, dropout() uses dropout rate instead of keep_prob. Please ensure that this is intended.\n",
      "WARNING:tensorflow:From C:\\Users\\kazim\\Sources\\senvaitis\\recommenders\\venv\\lib\\site-packages\\tensorflow_estimator\\python\\estimator\\canned\\linear.py:308: to_float (from tensorflow.python.ops.math_ops) is deprecated and will be removed in a future version.\n",
      "Instructions for updating:\n",
      "Use `tf.cast` instead.\n",
      "WARNING:tensorflow:From C:\\Users\\kazim\\Sources\\senvaitis\\recommenders\\venv\\lib\\site-packages\\tensorflow_core\\python\\training\\adagrad.py:76: calling Constant.__init__ (from tensorflow.python.ops.init_ops) with dtype is deprecated and will be removed in a future version.\n",
      "Instructions for updating:\n",
      "Call initializer instance with the dtype argument instead of passing it to the constructor\n",
      "INFO:tensorflow:Done calling model_fn.\n",
      "INFO:tensorflow:Create CheckpointSaverHook.\n",
      "INFO:tensorflow:Graph was finalized.\n",
      "INFO:tensorflow:Running local_init_op.\n",
      "INFO:tensorflow:Done running local_init_op.\n",
      "INFO:tensorflow:Saving checkpoints for 0 into C:\\Users\\kazim\\Sources\\senvaitis\\recommenders\\examples\\00_quick_start\\outputs\\tensorboard\\model.ckpt.\n",
      "INFO:tensorflow:loss = 5.8889885, step = 1\n",
      "INFO:tensorflow:global_step/sec: 53.3407\n",
      "INFO:tensorflow:loss = 6.123949, step = 501 (9.369 sec)\n",
      "INFO:tensorflow:Saving checkpoints for 1000 into C:\\Users\\kazim\\Sources\\senvaitis\\recommenders\\examples\\00_quick_start\\outputs\\tensorboard\\model.ckpt.\n"
     ]
    }
   ],
   "source": [
    "print(\n",
    "    \"Training steps = {}, Batch size = {} (num epochs = {})\"\n",
    "    .format(STEPS, BATCH_SIZE, (STEPS*BATCH_SIZE)//len(train))\n",
    ")\n",
    "tf.compat.v1.logging.set_verbosity(tf.compat.v1.logging.INFO)\n",
    "\n",
    "try:\n",
    "    model.train(\n",
    "        input_fn=train_fn,\n",
    "        hooks=hooks,\n",
    "        steps=STEPS\n",
    "    )\n",
    "except tf.train.NanLossDuringTrainingError:\n",
    "    import warnings\n",
    "    warnings.warn(\n",
    "        \"Training stopped with NanLossDuringTrainingError. \"\n",
    "        \"Try other optimizers, smaller batch size and/or smaller learning rate.\"\n",
    "    )"
   ]
  },
  {
   "cell_type": "code",
   "execution_count": null,
   "metadata": {
    "pycharm": {
     "name": "#%%\n",
     "is_executing": true
    }
   },
   "outputs": [],
   "source": [
    "if EVALUATE_WHILE_TRAINING:\n",
    "    logs = evaluation_logger.get_log()\n",
    "    for i, (m, v) in enumerate(logs.items(), 1):\n",
    "        sb.glue(\"eval_{}\".format(m), v)\n",
    "        x = [save_checkpoints_steps*i for i in range(1, len(v)+1)]\n",
    "        plot.line_graph(\n",
    "            values=list(zip(v, x)),\n",
    "            labels=m,\n",
    "            x_name=\"steps\",\n",
    "            y_name=m,\n",
    "            subplot=(math.ceil(len(logs)/2), 2, i),\n",
    "        )"
   ]
  },
  {
   "cell_type": "markdown",
   "metadata": {
    "pycharm": {
     "name": "#%% md\n"
    }
   },
   "source": [
    "#### 3.2 TensorBoard\n",
    "\n",
    "Once the train is done, you can browse the details of the training results as well as the metrics we logged from [TensorBoard](https://www.tensorflow.org/guide/summaries_and_tensorboard).\n",
    "\n",
    "[]()|[]()|[]()\n",
    ":---:|:---:|:---:\n",
    "<img src=\"https://recodatasets.z20.web.core.windows.net/images/tensorboard_0.png?sanitize=true\"> |  <img src=\"https://recodatasets.z20.web.core.windows.net/images/tensorboard_1.png?sanitize=true\"> | <img src=\"https://recodatasets.z20.web.core.windows.net/images/tensorboard_2.png?sanitize=true\">\n",
    "\n",
    "To open the TensorBoard, open a terminal from the same directory of this notebook, run `tensorboard --logdir=model_checkpoints`, and open http://localhost:6006 from a browser.\n",
    "\n"
   ]
  },
  {
   "cell_type": "markdown",
   "metadata": {
    "pycharm": {
     "name": "#%% md\n"
    }
   },
   "source": [
    "### 4. Test and Export Model\n",
    "\n",
    "#### 4.1 Item rating prediction"
   ]
  },
  {
   "cell_type": "code",
   "execution_count": null,
   "metadata": {
    "pycharm": {
     "name": "#%%\n",
     "is_executing": true
    }
   },
   "outputs": [],
   "source": [
    "if len(RATING_METRICS) > 0:\n",
    "    predictions = list(model.predict(input_fn=tf_utils.pandas_input_fn(df=test)))\n",
    "    prediction_df = test.drop(RATING_COL, axis=1)\n",
    "    prediction_df[PREDICT_COL] = [p['predictions'][0] for p in predictions]\n",
    "    \n",
    "    rating_results = {}\n",
    "    for m in RATING_METRICS:\n",
    "        result = evaluator.metrics[m](test, prediction_df, **cols)\n",
    "        sb.glue(m, result)\n",
    "        rating_results[m] = result\n",
    "    print(rating_results)"
   ]
  },
  {
   "cell_type": "markdown",
   "metadata": {
    "pycharm": {
     "name": "#%% md\n"
    }
   },
   "source": [
    "#### 4.2 Recommend k items\n",
    "For top-k recommendation evaluation, we use the ranking pool (all the user-item pairs) we prepared at the [training step](#ranking-pool). The difference is we remove users' seen items from the pool in this step which is more natural to the movie recommendation scenario."
   ]
  },
  {
   "cell_type": "code",
   "execution_count": null,
   "metadata": {
    "pycharm": {
     "name": "#%%\n",
     "is_executing": true
    }
   },
   "outputs": [],
   "source": [
    "if len(RANKING_METRICS) > 0:\n",
    "    predictions = list(model.predict(input_fn=tf_utils.pandas_input_fn(df=ranking_pool)))\n",
    "    prediction_df = ranking_pool.copy()\n",
    "    prediction_df[PREDICT_COL] = [p['predictions'][0] for p in predictions]\n",
    "\n",
    "    ranking_results = {}\n",
    "    for m in RANKING_METRICS:\n",
    "        result = evaluator.metrics[m](test, prediction_df, **{**cols, 'k': TOP_K})\n",
    "        sb.glue(m, result)\n",
    "        ranking_results[m] = result\n",
    "    print(ranking_results)"
   ]
  },
  {
   "cell_type": "markdown",
   "metadata": {
    "pycharm": {
     "name": "#%% md\n"
    }
   },
   "source": [
    "#### 4.3 Export Model\n",
    "Finally, we export the model so that we can load later for re-training, evaluation, and prediction.\n",
    "Examples of how to load, re-train, and evaluate the saved model can be found from [azureml_hyperdrive_wide_and_deep.ipynb](../04_model_select_and_optimize/azureml_hyperdrive_wide_and_deep.ipynb) notebook."
   ]
  },
  {
   "cell_type": "code",
   "execution_count": null,
   "metadata": {
    "pycharm": {
     "name": "#%%\n",
     "is_executing": true
    }
   },
   "outputs": [],
   "source": [
    "os.makedirs(EXPORT_DIR_BASE, exist_ok=True)"
   ]
  },
  {
   "cell_type": "code",
   "execution_count": null,
   "metadata": {
    "scrolled": true,
    "pycharm": {
     "name": "#%%\n",
     "is_executing": true
    }
   },
   "outputs": [],
   "source": [
    "exported_path = tf_utils.export_model(\n",
    "    model=model,\n",
    "    train_input_fn=train_fn,\n",
    "    eval_input_fn=tf_utils.pandas_input_fn(\n",
    "        df=test, y_col=RATING_COL\n",
    "    ),\n",
    "    tf_feat_cols=wide_columns+deep_columns,\n",
    "    base_dir=EXPORT_DIR_BASE\n",
    ")\n",
    "sb.glue('saved_model_dir', str(exported_path))\n",
    "print(\"Model exported to\", str(exported_path))"
   ]
  },
  {
   "cell_type": "code",
   "execution_count": null,
   "metadata": {
    "pycharm": {
     "name": "#%%\n",
     "is_executing": true
    }
   },
   "outputs": [],
   "source": [
    "# Close the event file so that the model folder can be cleaned up.\n",
    "summary_writer = tf.compat.v1.summary.FileWriterCache.get(model.model_dir)\n",
    "summary_writer.close()\n",
    "\n",
    "# Cleanup temporary directory if used\n",
    "if TMP_DIR is not None:\n",
    "    TMP_DIR.cleanup()"
   ]
  }
 ],
 "metadata": {
  "interpreter": {
   "hash": "3a9a0c422ff9f08d62211b9648017c63b0a26d2c935edc37ebb8453675d13bb5"
  },
  "kernelspec": {
   "display_name": "Python 3 (ipykernel)",
   "language": "python",
   "name": "python3"
  },
  "language_info": {
   "codemirror_mode": {
    "name": "ipython",
    "version": 3
   },
   "file_extension": ".py",
   "mimetype": "text/x-python",
   "name": "python",
   "nbconvert_exporter": "python",
   "pygments_lexer": "ipython3",
   "version": "3.9.9"
  }
 },
 "nbformat": 4,
 "nbformat_minor": 2
}